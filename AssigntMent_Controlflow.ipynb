{
  "nbformat": 4,
  "nbformat_minor": 0,
  "metadata": {
    "colab": {
      "provenance": []
    },
    "kernelspec": {
      "name": "python3",
      "display_name": "Python 3"
    },
    "language_info": {
      "name": "python"
    }
  },
  "cells": [
    {
      "cell_type": "code",
      "execution_count": 2,
      "metadata": {
        "colab": {
          "base_uri": "https://localhost:8080/"
        },
        "id": "1tHIw07a6H3x",
        "outputId": "fa497e79-e566-49be-9194-c64daea3e25b"
      },
      "outputs": [
        {
          "output_type": "stream",
          "name": "stdout",
          "text": [
            "Enter a number: 10\n",
            "10.0 is a positive number.\n"
          ]
        }
      ],
      "source": [
        "# Question 1: Write a Python program to check if a given number is positive or negative.\n",
        "\n",
        "# Input a number from the user\n",
        "number = float(input(\"Enter a number: \"))\n",
        "\n",
        "# Check if the number is positive or negative\n",
        "if number > 0:\n",
        "    print(f\"{number} is a positive number.\")\n",
        "elif number < 0:\n",
        "    print(f\"{number} is a negative number.\")\n",
        "else:\n",
        "    print(\"The number is zero.\")\n"
      ]
    },
    {
      "cell_type": "code",
      "source": [
        "# Question 2: Create a program that determines if a person is eligible to vote based on their age.\n",
        "\n",
        "# Input the age of the person\n",
        "age = int(input(\"Enter your age: \"))\n",
        "\n",
        "# Check if the person is eligible to vote\n",
        "if age >= 18:\n",
        "    print(\"You are eligible to vote.\")\n",
        "else:\n",
        "    print(\"You are not eligible to vote.\")\n"
      ],
      "metadata": {
        "colab": {
          "base_uri": "https://localhost:8080/"
        },
        "id": "yRhplck86kKp",
        "outputId": "0f63ce82-1885-466f-c1c2-56d678e549e2"
      },
      "execution_count": 3,
      "outputs": [
        {
          "output_type": "stream",
          "name": "stdout",
          "text": [
            "Enter your age: 28\n",
            "You are eligible to vote.\n"
          ]
        }
      ]
    },
    {
      "cell_type": "code",
      "source": [
        "# Question 3: Develop a program to find the maximum of two numbers using if-else statements.\n",
        "\n",
        "# Input two numbers from the user\n",
        "num1 = float(input(\"Enter the first number: \"))\n",
        "num2 = float(input(\"Enter the second number: \"))\n",
        "\n",
        "# Check which number is greater\n",
        "if num1 > num2:\n",
        "    print(f\"{num1} is greater than {num2}.\")\n",
        "elif num1 < num2:\n",
        "    print(f\"{num2} is greater than {num1}.\")\n",
        "else:\n",
        "    print(\"Both numbers are equal.\")\n"
      ],
      "metadata": {
        "colab": {
          "base_uri": "https://localhost:8080/"
        },
        "id": "1tuw1Ikr6kVw",
        "outputId": "e83e0b85-7098-4add-8a40-88145f1135dd"
      },
      "execution_count": 4,
      "outputs": [
        {
          "output_type": "stream",
          "name": "stdout",
          "text": [
            "Enter the first number: 10\n",
            "Enter the second number: 9\n",
            "10.0 is greater than 9.0.\n"
          ]
        }
      ]
    },
    {
      "cell_type": "code",
      "source": [
        "# Question 4: Write a Python script to classify a given year as a leap year or not.\n",
        "\n",
        "# Input the year\n",
        "year = int(input(\"Enter a year: \"))\n",
        "\n",
        "# Check if the year is a leap year\n",
        "if (year % 4 == 0 and year % 100 != 0) or (year % 400 == 0):\n",
        "    print(f\"{year} is a leap year.\")\n",
        "else:\n",
        "    print(f\"{year} is not a leap year.\")\n"
      ],
      "metadata": {
        "colab": {
          "base_uri": "https://localhost:8080/"
        },
        "id": "D1yVy0mH6kcN",
        "outputId": "324292e6-00b3-4dd8-ba71-59d02b855055"
      },
      "execution_count": 5,
      "outputs": [
        {
          "output_type": "stream",
          "name": "stdout",
          "text": [
            "Enter a year: 2024\n",
            "2024 is a leap year.\n"
          ]
        }
      ]
    },
    {
      "cell_type": "code",
      "source": [
        "# Question 5: Create a program that checks whether a character is a vowel or a consonant.\n",
        "\n",
        "# Input a character from the user\n",
        "char = input(\"Enter a character: \").lower()\n",
        "\n",
        "# Check if the character is a vowel or consonant\n",
        "if char in 'aeiou':\n",
        "    print(f\"{char} is a vowel.\")\n",
        "else:\n",
        "    print(f\"{char} is a consonant.\")\n"
      ],
      "metadata": {
        "colab": {
          "base_uri": "https://localhost:8080/"
        },
        "id": "hW7gAMQZ6kiO",
        "outputId": "bc8693ce-fcca-4d45-c4bf-785491555f53"
      },
      "execution_count": 6,
      "outputs": [
        {
          "output_type": "stream",
          "name": "stdout",
          "text": [
            "Enter a character: a\n",
            "a is a vowel.\n"
          ]
        }
      ]
    },
    {
      "cell_type": "code",
      "source": [
        "# Question 6: Implement a program to determine whether a given number is even or odd.\n",
        "\n",
        "# Input a number\n",
        "num = int(input(\"Enter a number: \"))\n",
        "\n",
        "# Check if the number is even or odd\n",
        "if num % 2 == 0:\n",
        "    print(f\"{num} is an even number.\")\n",
        "else:\n",
        "    print(f\"{num} is an odd number.\")\n"
      ],
      "metadata": {
        "colab": {
          "base_uri": "https://localhost:8080/"
        },
        "id": "_gqE0DtV6kno",
        "outputId": "8977e972-a28e-48bb-c80f-77a5a530c11c"
      },
      "execution_count": 7,
      "outputs": [
        {
          "output_type": "stream",
          "name": "stdout",
          "text": [
            "Enter a number: 12\n",
            "12 is an even number.\n"
          ]
        }
      ]
    },
    {
      "cell_type": "code",
      "source": [
        "# Question 7: Write a Python function to calculate the absolute value of a number without using the abs() function.\n",
        "\n",
        "def absolute_value(number):\n",
        "    if number < 0:\n",
        "        return -number\n",
        "    return number\n",
        "\n",
        "# Input a number\n",
        "num = float(input(\"Enter a number: \"))\n",
        "\n",
        "# Output the absolute value\n",
        "print(f\"The absolute value of {num} is {absolute_value(num)}.\")\n"
      ],
      "metadata": {
        "colab": {
          "base_uri": "https://localhost:8080/"
        },
        "id": "1zbb5GFT6ktJ",
        "outputId": "a76475b8-9a0a-4a4b-ace5-556f3d9938e6"
      },
      "execution_count": 8,
      "outputs": [
        {
          "output_type": "stream",
          "name": "stdout",
          "text": [
            "Enter a number: 12\n",
            "The absolute value of 12.0 is 12.0.\n"
          ]
        }
      ]
    },
    {
      "cell_type": "code",
      "source": [
        "# Question 8: Develop a program that determines the largest of three given numbers using if-else statements.\n",
        "\n",
        "# Input three numbers\n",
        "num1 = float(input(\"Enter the first number: \"))\n",
        "num2 = float(input(\"Enter the second number: \"))\n",
        "num3 = float(input(\"Enter the third number: \"))\n",
        "\n",
        "# Find the largest number\n",
        "if num1 >= num2 and num1 >= num3:\n",
        "    print(f\"{num1} is the largest number.\")\n",
        "elif num2 >= num1 and num2 >= num3:\n",
        "    print(f\"{num2} is the largest number.\")\n",
        "else:\n",
        "    print(f\"{num3} is the largest number.\")\n"
      ],
      "metadata": {
        "colab": {
          "base_uri": "https://localhost:8080/"
        },
        "id": "4ivKQ1s36kyw",
        "outputId": "65c42371-7d33-435d-e105-ae1b519b0ef0"
      },
      "execution_count": 9,
      "outputs": [
        {
          "output_type": "stream",
          "name": "stdout",
          "text": [
            "Enter the first number: 3\n",
            "Enter the second number: 4\n",
            "Enter the third number: 7\n",
            "7.0 is the largest number.\n"
          ]
        }
      ]
    },
    {
      "cell_type": "code",
      "source": [
        "# Question 9: Create a program that checks if a given string is a palindrome.\n",
        "\n",
        "# Input a string\n",
        "string = input(\"Enter a string: \")\n",
        "\n",
        "# Check if the string is a palindrome\n",
        "if string == string[::-1]:\n",
        "    print(f\"{string} is a palindrome.\")\n",
        "else:\n",
        "    print(f\"{string} is not a palindrome.\")\n"
      ],
      "metadata": {
        "colab": {
          "base_uri": "https://localhost:8080/"
        },
        "id": "DcYxpNQL6k36",
        "outputId": "8285e29a-48cf-41cf-c64f-e1a14ef91735"
      },
      "execution_count": 10,
      "outputs": [
        {
          "output_type": "stream",
          "name": "stdout",
          "text": [
            "Enter a string: asif\n",
            "asif is not a palindrome.\n"
          ]
        }
      ]
    },
    {
      "cell_type": "code",
      "source": [
        "# Question 10: Write a Python program to calculate the grade based on a student's score.\n",
        "\n",
        "# Input the score\n",
        "score = float(input(\"Enter the student's score: \"))\n",
        "\n",
        "# Calculate the grade\n",
        "if score >= 90:\n",
        "    grade = 'A'\n",
        "elif score >= 80:\n",
        "    grade = 'B'\n",
        "elif score >= 70:\n",
        "    grade = 'C'\n",
        "elif score >= 60:\n",
        "    grade = 'D'\n",
        "else:\n",
        "    grade = 'F'\n",
        "\n",
        "print(f\"The student's grade is: {grade}\")\n"
      ],
      "metadata": {
        "colab": {
          "base_uri": "https://localhost:8080/"
        },
        "id": "0zHM0vPd6k8n",
        "outputId": "bdc114c4-454c-4331-804b-d55eaf764464"
      },
      "execution_count": 11,
      "outputs": [
        {
          "output_type": "stream",
          "name": "stdout",
          "text": [
            "Enter the student's score: 100\n",
            "The student's grade is: A\n"
          ]
        }
      ]
    },
    {
      "cell_type": "code",
      "source": [
        "# Question 11: Write a program to find the largest among three numbers using nested if-else statements.\n",
        "\n",
        "# Input three numbers\n",
        "num1 = float(input(\"Enter the first number: \"))\n",
        "num2 = float(input(\"Enter the second number: \"))\n",
        "num3 = float(input(\"Enter the third number: \"))\n",
        "\n",
        "# Find the largest number using nested if-else\n",
        "if num1 >= num2:\n",
        "    if num1 >= num3:\n",
        "        print(f\"{num1} is the largest number.\")\n",
        "    else:\n",
        "        print(f\"{num3} is the largest number.\")\n",
        "else:\n",
        "    if num2 >= num3:\n",
        "        print(f\"{num2} is the largest number.\")\n",
        "    else:\n",
        "        print(f\"{num3} is the largest number.\")\n"
      ],
      "metadata": {
        "colab": {
          "base_uri": "https://localhost:8080/"
        },
        "id": "jtg4j7ce6lBd",
        "outputId": "bcbcf1bb-d20f-434f-defe-e34f50292870"
      },
      "execution_count": 12,
      "outputs": [
        {
          "output_type": "stream",
          "name": "stdout",
          "text": [
            "Enter the first number: 1\n",
            "Enter the second number: 2\n",
            "Enter the third number: 5\n",
            "5.0 is the largest number.\n"
          ]
        }
      ]
    },
    {
      "cell_type": "code",
      "source": [
        "# Question 12: Implement a program to determine if a triangle is equilateral, isosceles, or scalene.\n",
        "\n",
        "# Input the sides of the triangle\n",
        "side1 = float(input(\"Enter the first side of the triangle: \"))\n",
        "side2 = float(input(\"Enter the second side of the triangle: \"))\n",
        "side3 = float(input(\"Enter the third side of the triangle: \"))\n",
        "\n",
        "# Determine the type of triangle using nested if-else\n",
        "if side1 == side2 and side2 == side3:\n",
        "    print(\"The triangle is equilateral.\")\n",
        "elif side1 == side2 or side2 == side3 or side1 == side3:\n",
        "    print(\"The triangle is isosceles.\")\n",
        "else:\n",
        "    print(\"The triangle is scalene.\")\n"
      ],
      "metadata": {
        "colab": {
          "base_uri": "https://localhost:8080/"
        },
        "id": "lG3-cdGs6lGR",
        "outputId": "7443a5a5-34a8-4ed5-aefb-49137d3e9a22"
      },
      "execution_count": 13,
      "outputs": [
        {
          "output_type": "stream",
          "name": "stdout",
          "text": [
            "Enter the first side of the triangle: 3\n",
            "Enter the second side of the triangle: 4\n",
            "Enter the third side of the triangle: 5\n",
            "The triangle is scalene.\n"
          ]
        }
      ]
    },
    {
      "cell_type": "code",
      "source": [
        "# Question 13: Develop a program that checks if a year is a leap year and also if it is a century year.\n",
        "\n",
        "# Input the year\n",
        "year = int(input(\"Enter a year: \"))\n",
        "\n",
        "# Check if the year is a leap year and if it is a century year\n",
        "if year % 4 == 0:\n",
        "    if year % 100 == 0:\n",
        "        if year % 400 == 0:\n",
        "            print(f\"{year} is a leap year and a century year.\")\n",
        "        else:\n",
        "            print(f\"{year} is not a leap year, but it is a century year.\")\n",
        "    else:\n",
        "        print(f\"{year} is a leap year, but not a century year.\")\n",
        "else:\n",
        "    print(f\"{year} is not a leap year.\")\n"
      ],
      "metadata": {
        "colab": {
          "base_uri": "https://localhost:8080/"
        },
        "id": "DCZ6W5fs6lLq",
        "outputId": "5b0f41a0-e93b-4e29-df72-009dbb1882ee"
      },
      "execution_count": 14,
      "outputs": [
        {
          "output_type": "stream",
          "name": "stdout",
          "text": [
            "Enter a year: 2024\n",
            "2024 is a leap year, but not a century year.\n"
          ]
        }
      ]
    },
    {
      "cell_type": "code",
      "source": [
        "# Question 14: Write a Python script to determine if a number is positive, negative, or zero.\n",
        "\n",
        "# Input a number\n",
        "num = float(input(\"Enter a number: \"))\n",
        "\n",
        "# Determine if the number is positive, negative, or zero using nested if-else\n",
        "if num > 0:\n",
        "    print(f\"{num} is a positive number.\")\n",
        "elif num < 0:\n",
        "    print(f\"{num} is a negative number.\")\n",
        "else:\n",
        "    print(\"The number is zero.\")\n"
      ],
      "metadata": {
        "colab": {
          "base_uri": "https://localhost:8080/"
        },
        "id": "xG9Y7jpm6lQq",
        "outputId": "395557c4-c779-43e9-d825-d12bd0c9220f"
      },
      "execution_count": 15,
      "outputs": [
        {
          "output_type": "stream",
          "name": "stdout",
          "text": [
            "Enter a number: 19\n",
            "19.0 is a positive number.\n"
          ]
        }
      ]
    },
    {
      "cell_type": "code",
      "source": [
        "# Question 15: Create a program to check if a person is a teenager (between 13 and 19 years old).\n",
        "\n",
        "# Input the age of the person\n",
        "age = int(input(\"Enter your age: \"))\n",
        "\n",
        "# Check if the person is a teenager\n",
        "if 13 <= age <= 19:\n",
        "    print(\"You are a teenager.\")\n",
        "else:\n",
        "    print(\"You are not a teenager.\")\n"
      ],
      "metadata": {
        "colab": {
          "base_uri": "https://localhost:8080/"
        },
        "id": "VeLC7pRB6lWD",
        "outputId": "e25651c5-7150-4949-ef55-4cd1c5640ce8"
      },
      "execution_count": 16,
      "outputs": [
        {
          "output_type": "stream",
          "name": "stdout",
          "text": [
            "Enter your age: 28\n",
            "You are not a teenager.\n"
          ]
        }
      ]
    },
    {
      "cell_type": "code",
      "source": [
        "# Question 16: Develop a program that determines the type of angle based on its measure (acute, obtuse, or right).\n",
        "\n",
        "# Input the angle measure\n",
        "angle = float(input(\"Enter the angle in degrees: \"))\n",
        "\n",
        "# Determine the type of angle using nested if-else\n",
        "if angle == 90:\n",
        "    print(\"The angle is a right angle.\")\n",
        "elif angle < 90:\n",
        "    print(\"The angle is acute.\")\n",
        "else:\n",
        "    print(\"The angle is obtuse.\")\n"
      ],
      "metadata": {
        "colab": {
          "base_uri": "https://localhost:8080/"
        },
        "id": "KOpjaQOV6lbV",
        "outputId": "40838cb9-724a-4d54-c013-a615dd837bd4"
      },
      "execution_count": 17,
      "outputs": [
        {
          "output_type": "stream",
          "name": "stdout",
          "text": [
            "Enter the angle in degrees: 90\n",
            "The angle is a right angle.\n"
          ]
        }
      ]
    },
    {
      "cell_type": "code",
      "source": [
        "# Question 17: Write a Python program to calculate the roots of a quadratic equation.\n",
        "\n",
        "import math\n",
        "\n",
        "# Input the coefficients of the quadratic equation\n",
        "a = float(input(\"Enter the coefficient a: \"))\n",
        "b = float(input(\"Enter the coefficient b: \"))\n",
        "c = float(input(\"Enter the coefficient c: \"))\n",
        "\n",
        "# Calculate the discriminant\n",
        "discriminant = b**2 - 4*a*c\n",
        "\n",
        "# Calculate the roots based on the discriminant\n",
        "if discriminant > 0:\n",
        "    root1 = (-b + math.sqrt(discriminant)) / (2 * a)\n",
        "    root2 = (-b - math.sqrt(discriminant)) / (2 * a)\n",
        "    print(f\"The roots are real and different: {root1} and {root2}\")\n",
        "elif discriminant == 0:\n",
        "    root = -b / (2 * a)\n",
        "    print(f\"The root is real and the same: {root}\")\n",
        "else:\n",
        "    real_part = -b / (2 * a)\n",
        "    imaginary_part = math.sqrt(-discriminant) / (2 * a)\n",
        "    print(f\"The roots are complex: {real_part} + {imaginary_part}i and {real_part} - {imaginary_part}i\")\n"
      ],
      "metadata": {
        "colab": {
          "base_uri": "https://localhost:8080/"
        },
        "id": "28QLR5C96lgx",
        "outputId": "3e501deb-6a07-4c3f-c96e-c8c12562c823"
      },
      "execution_count": 18,
      "outputs": [
        {
          "output_type": "stream",
          "name": "stdout",
          "text": [
            "Enter the coefficient a: 5\n",
            "Enter the coefficient b: 6\n",
            "Enter the coefficient c: 7\n",
            "The roots are complex: -0.6 + 1.0198039027185568i and -0.6 - 1.0198039027185568i\n"
          ]
        }
      ]
    },
    {
      "cell_type": "code",
      "source": [
        "# Question 18: Implement a program to determine the day of the week based on a user-provided number (1 for Monday, 2 for Tuesday, etc.).\n",
        "\n",
        "# Input the day number\n",
        "day_number = int(input(\"Enter a number between 1 and 7: \"))\n",
        "\n",
        "# Determine the day of the week using nested if-else\n",
        "if day_number == 1:\n",
        "    print(\"It's Monday.\")\n",
        "elif day_number == 2:\n",
        "    print(\"It's Tuesday.\")\n",
        "elif day_number == 3:\n",
        "    print(\"It's Wednesday.\")\n",
        "elif day_number == 4:\n",
        "    print(\"It's Thursday.\")\n",
        "elif day_number == 5:\n",
        "    print(\"It's Friday.\")\n",
        "elif day_number == 6:\n",
        "    print(\"It's Saturday.\")\n",
        "elif day_number == 7:\n",
        "    print(\"It's Sunday.\")\n",
        "else:\n",
        "    print(\"Invalid input! Please enter a number between 1 and 7.\")\n"
      ],
      "metadata": {
        "colab": {
          "base_uri": "https://localhost:8080/"
        },
        "id": "LLimNCWL6lmS",
        "outputId": "4a373f6a-412e-4593-8e60-178035d7f642"
      },
      "execution_count": 19,
      "outputs": [
        {
          "output_type": "stream",
          "name": "stdout",
          "text": [
            "Enter a number between 1 and 7: 6\n",
            "It's Saturday.\n"
          ]
        }
      ]
    },
    {
      "cell_type": "code",
      "source": [
        "# Question 19: Create a program that determines if a year is a leap year and also if it is evenly divisible by 400.\n",
        "\n",
        "# Input the year\n",
        "year = int(input(\"Enter a year: \"))\n",
        "\n",
        "# Check if the year is a leap year and divisible by 400\n",
        "if year % 4 == 0:\n",
        "    if year % 100 == 0:\n",
        "        if year % 400 == 0:\n",
        "            print(f\"{year} is a leap year and evenly divisible by 400.\")\n",
        "        else:\n",
        "            print(f\"{year} is a leap year but not divisible by 400.\")\n",
        "    else:\n",
        "        print(f\"{year} is a leap year.\")\n",
        "else:\n",
        "    print(f\"{year} is not a leap year.\")\n"
      ],
      "metadata": {
        "colab": {
          "base_uri": "https://localhost:8080/"
        },
        "id": "VdHlq2Ot6lr2",
        "outputId": "2b7d7caa-7291-46a3-c567-04765ccfd0d6"
      },
      "execution_count": 20,
      "outputs": [
        {
          "output_type": "stream",
          "name": "stdout",
          "text": [
            "Enter a year: 2024\n",
            "2024 is a leap year.\n"
          ]
        }
      ]
    },
    {
      "cell_type": "code",
      "source": [
        "# Question 20: Develop a program that checks if a given number is prime or not using nested if-else statements.\n",
        "\n",
        "# Input a number\n",
        "num = int(input(\"Enter a number: \"))\n",
        "\n",
        "# Check if the number is prime\n",
        "if num > 1:\n",
        "    for i in range(2, int(num/2) + 1):\n",
        "        if num % i == 0:\n",
        "            print(f\"{num} is not a prime number.\")\n",
        "            break\n",
        "    else:\n",
        "        print(f\"{num} is a prime number.\")\n",
        "else:\n",
        "    print(f\"{num} is not a prime number.\")\n"
      ],
      "metadata": {
        "colab": {
          "base_uri": "https://localhost:8080/"
        },
        "id": "yhzdYIIe6lwT",
        "outputId": "f35147ed-b91c-43cf-ff5c-ac67abc866bf"
      },
      "execution_count": 21,
      "outputs": [
        {
          "output_type": "stream",
          "name": "stdout",
          "text": [
            "Enter a number: 4\n",
            "4 is not a prime number.\n"
          ]
        }
      ]
    },
    {
      "cell_type": "code",
      "source": [
        "# Question 21: Write a Python program to assign grades based on different ranges of scores using elif statements.\n",
        "\n",
        "# Input the score\n",
        "score = float(input(\"Enter the score (0-100): \"))\n",
        "\n",
        "# Assign grade using elif statements\n",
        "if score >= 90:\n",
        "    print(\"Grade: A\")\n",
        "elif score >= 80:\n",
        "    print(\"Grade: B\")\n",
        "elif score >= 70:\n",
        "    print(\"Grade: C\")\n",
        "elif score >= 60:\n",
        "    print(\"Grade: D\")\n",
        "elif score >= 50:\n",
        "    print(\"Grade: E\")\n",
        "else:\n",
        "    print(\"Grade: F\")\n"
      ],
      "metadata": {
        "colab": {
          "base_uri": "https://localhost:8080/"
        },
        "id": "9BYGqUP57d8U",
        "outputId": "c854aa91-0caa-487b-f18a-6d4a54ecbd17"
      },
      "execution_count": 22,
      "outputs": [
        {
          "output_type": "stream",
          "name": "stdout",
          "text": [
            "Enter the score (0-100): 89\n",
            "Grade: B\n"
          ]
        }
      ]
    },
    {
      "cell_type": "code",
      "source": [
        "# Question 22: Implement a program to determine the type of a triangle based on its angles.\n",
        "\n",
        "# Input the angles of the triangle\n",
        "angle1 = float(input(\"Enter the first angle: \"))\n",
        "angle2 = float(input(\"Enter the second angle: \"))\n",
        "angle3 = float(input(\"Enter the third angle: \"))\n",
        "\n",
        "# Determine the type of triangle based on angles using elif\n",
        "if angle1 == 90 or angle2 == 90 or angle3 == 90:\n",
        "    print(\"The triangle is a right triangle.\")\n",
        "elif angle1 > 90 or angle2 > 90 or angle3 > 90:\n",
        "    print(\"The triangle is an obtuse triangle.\")\n",
        "elif angle1 < 90 and angle2 < 90 and angle3 < 90:\n",
        "    print(\"The triangle is an acute triangle.\")\n",
        "else:\n",
        "    print(\"Invalid input! The sum of angles should be 180.\")\n"
      ],
      "metadata": {
        "colab": {
          "base_uri": "https://localhost:8080/"
        },
        "id": "L4MyPp2J7eGB",
        "outputId": "fe6e1404-0b00-47be-dcca-27d59840136a"
      },
      "execution_count": 23,
      "outputs": [
        {
          "output_type": "stream",
          "name": "stdout",
          "text": [
            "Enter the first angle: 75\n",
            "Enter the second angle: 50\n",
            "Enter the third angle: 90\n",
            "The triangle is a right triangle.\n"
          ]
        }
      ]
    },
    {
      "cell_type": "code",
      "source": [
        "# Question 23: Develop a program to categorize a given person's BMI into underweight, normal, overweight, or obese using elif statements.\n",
        "\n",
        "# Input height (in meters) and weight (in kg)\n",
        "height = float(input(\"Enter your height in meters: \"))\n",
        "weight = float(input(\"Enter your weight in kilograms: \"))\n",
        "\n",
        "# Calculate BMI\n",
        "bmi = weight / (height ** 2)\n",
        "\n",
        "# Categorize the BMI using elif statements\n",
        "if bmi < 18.5:\n",
        "    print(f\"Your BMI is {bmi:.2f}. You are underweight.\")\n",
        "elif 18.5 <= bmi < 24.9:\n",
        "    print(f\"Your BMI is {bmi:.2f}. You have a normal weight.\")\n",
        "elif 25 <= bmi < 29.9:\n",
        "    print(f\"Your BMI is {bmi:.2f}. You are overweight.\")\n",
        "else:\n",
        "    print(f\"Your BMI is {bmi:.2f}. You are obese.\")\n"
      ],
      "metadata": {
        "colab": {
          "base_uri": "https://localhost:8080/"
        },
        "id": "T8nesgUq7eO4",
        "outputId": "1dbccebf-c9ef-4fd3-dd8e-0cdbe611b15e"
      },
      "execution_count": 24,
      "outputs": [
        {
          "output_type": "stream",
          "name": "stdout",
          "text": [
            "Enter your height in meters: 185\n",
            "Enter your weight in kilograms: 85\n",
            "Your BMI is 0.00. You are underweight.\n"
          ]
        }
      ]
    },
    {
      "cell_type": "code",
      "source": [
        "# Question 24: Create a program that determines whether a given number is positive, negative, or zero using elif statements.\n",
        "\n",
        "# Input a number\n",
        "num = float(input(\"Enter a number: \"))\n",
        "\n",
        "# Check if the number is positive, negative, or zero using elif\n",
        "if num > 0:\n",
        "    print(f\"{num} is a positive number.\")\n",
        "elif num < 0:\n",
        "    print(f\"{num} is a negative number.\")\n",
        "else:\n",
        "    print(\"The number is zero.\")\n"
      ],
      "metadata": {
        "colab": {
          "base_uri": "https://localhost:8080/"
        },
        "id": "UvDGhnJ67eVT",
        "outputId": "a15b7092-670f-4c66-aa8e-84d67b4e098c"
      },
      "execution_count": 25,
      "outputs": [
        {
          "output_type": "stream",
          "name": "stdout",
          "text": [
            "Enter a number: 10\n",
            "10.0 is a positive number.\n"
          ]
        }
      ]
    },
    {
      "cell_type": "code",
      "source": [
        "# Question 25: Write a Python script to determine the type of a character (uppercase, lowercase, or special) using elif statements.\n",
        "\n",
        "# Input a character\n",
        "char = input(\"Enter a character: \")\n",
        "\n",
        "# Check the type of the character using elif\n",
        "if char.isupper():\n",
        "    print(f\"The character {char} is uppercase.\")\n",
        "elif char.islower():\n",
        "    print(f\"The character {char} is lowercase.\")\n",
        "else:\n",
        "    print(f\"The character {char} is a special character.\")\n"
      ],
      "metadata": {
        "colab": {
          "base_uri": "https://localhost:8080/"
        },
        "id": "TyxYY0UB7ecg",
        "outputId": "4c31e89f-c7c5-4aa6-c2f7-868523ddd492"
      },
      "execution_count": 26,
      "outputs": [
        {
          "output_type": "stream",
          "name": "stdout",
          "text": [
            "Enter a character: asif\n",
            "The character asif is lowercase.\n"
          ]
        }
      ]
    },
    {
      "cell_type": "code",
      "source": [
        "# Question 26: Implement a program to calculate the discounted price based on different purchase amounts using elif statements.\n",
        "\n",
        "# Input the purchase amount\n",
        "purchase_amount = float(input(\"Enter the purchase amount: \"))\n",
        "\n",
        "# Calculate the discounted price using elif statements\n",
        "if purchase_amount > 1000:\n",
        "    discount = 0.20\n",
        "elif purchase_amount > 500:\n",
        "    discount = 0.15\n",
        "elif purchase_amount > 200:\n",
        "    discount = 0.10\n",
        "else:\n",
        "    discount = 0.05\n",
        "\n",
        "# Calculate the final price after discount\n",
        "discounted_price = purchase_amount - (purchase_amount * discount)\n",
        "print(f\"Discounted price: {discounted_price:.2f}\")\n"
      ],
      "metadata": {
        "colab": {
          "base_uri": "https://localhost:8080/"
        },
        "id": "kcLY0Lm_7eix",
        "outputId": "f7fd7b15-32b0-4217-9f93-ec7b5a187aa2"
      },
      "execution_count": 27,
      "outputs": [
        {
          "output_type": "stream",
          "name": "stdout",
          "text": [
            "Enter the purchase amount: 100\n",
            "Discounted price: 95.00\n"
          ]
        }
      ]
    },
    {
      "cell_type": "code",
      "source": [
        "# Question 27: Develop a program to calculate the electricity bill based on different consumption slabs using elif statements.\n",
        "\n",
        "# Input the electricity consumption in kilowatt-hours (kWh)\n",
        "consumption = float(input(\"Enter your electricity consumption in kWh: \"))\n",
        "\n",
        "# Calculate the electricity bill based on consumption using elif statements\n",
        "if consumption <= 100:\n",
        "    bill = consumption * 0.5\n",
        "elif consumption <= 300:\n",
        "    bill = consumption * 0.75\n",
        "elif consumption <= 500:\n",
        "    bill = consumption * 1.20\n",
        "else:\n",
        "    bill = consumption * 1.50\n",
        "\n",
        "# Display the calculated bill\n",
        "print(f\"Your electricity bill is: ${bill:.2f}\")\n"
      ],
      "metadata": {
        "colab": {
          "base_uri": "https://localhost:8080/"
        },
        "id": "b1kOmqpO7eo8",
        "outputId": "f1f72fe0-b8a9-448b-81c9-5581981b9e1f"
      },
      "execution_count": 28,
      "outputs": [
        {
          "output_type": "stream",
          "name": "stdout",
          "text": [
            "Enter your electricity consumption in kWh: 100\n",
            "Your electricity bill is: $50.00\n"
          ]
        }
      ]
    },
    {
      "cell_type": "code",
      "source": [
        "# Question 28: Create a program to determine the type of quadrilateral based on its angles and sides using elif statements.\n",
        "\n",
        "# Input the sides and angles of the quadrilateral\n",
        "side1 = float(input(\"Enter the first side: \"))\n",
        "side2 = float(input(\"Enter the second side: \"))\n",
        "side3 = float(input(\"Enter the third side: \"))\n",
        "side4 = float(input(\"Enter the fourth side: \"))\n",
        "angle1 = float(input(\"Enter the first angle: \"))\n",
        "angle2 = float(input(\"Enter the second angle: \"))\n",
        "angle3 = float(input(\"Enter the third angle: \"))\n",
        "angle4 = float(input(\"Enter the fourth angle: \"))\n",
        "\n",
        "# Determine the type of quadrilateral based on its angles and sides using elif\n",
        "if angle1 == 90 and angle2 == 90 and angle3 == 90 and angle4 == 90:\n",
        "    if side1 == side2 == side3 == side4:\n",
        "        print(\"The quadrilateral is a square.\")\n",
        "    elif side1 == side3 and side2 == side4:\n",
        "        print(\"The quadrilateral is a rectangle.\")\n",
        "    else:\n",
        "        print(\"The quadrilateral is a right-angled quadrilateral.\")\n",
        "elif side1 == side2 == side3 == side4:\n",
        "    print(\"The quadrilateral is a rhombus.\")\n",
        "elif side1 == side3 and side2 == side4:\n",
        "    print(\"The quadrilateral is a parallelogram.\")\n",
        "else:\n",
        "    print(\"The quadrilateral is an irregular quadrilateral.\")\n"
      ],
      "metadata": {
        "colab": {
          "base_uri": "https://localhost:8080/"
        },
        "id": "2rw0Bh9q7euh",
        "outputId": "238731f8-f194-4cb5-b876-17938f37e210"
      },
      "execution_count": 29,
      "outputs": [
        {
          "output_type": "stream",
          "name": "stdout",
          "text": [
            "Enter the first side: 4\n",
            "Enter the second side: 5\n",
            "Enter the third side: 6\n",
            "Enter the fourth side: 8\n",
            "Enter the first angle: 90\n",
            "Enter the second angle: 60\n",
            "Enter the third angle: 45\n",
            "Enter the fourth angle: 30\n",
            "The quadrilateral is an irregular quadrilateral.\n"
          ]
        }
      ]
    },
    {
      "cell_type": "code",
      "source": [
        "# Question 29: Write a Python script to determine the season based on a user-provided month using elif statements.\n",
        "\n",
        "# Input the month number\n",
        "month = int(input(\"Enter the month number (1-12): \"))\n",
        "\n",
        "# Determine the season using elif statements\n",
        "if month == 12 or month == 1 or month == 2:\n",
        "    print(\"It's Winter.\")\n",
        "elif month == 3 or month == 4 or month == 5:\n",
        "    print(\"It's Spring.\")\n",
        "elif month == 6 or month == 7 or month == 8:\n",
        "    print(\"It's Summer.\")\n",
        "elif month == 9 or month == 10 or month == 11:\n",
        "    print(\"It's Fall.\")\n",
        "else:\n",
        "    print(\"Invalid month number! Please enter a number between 1 and 12.\")\n"
      ],
      "metadata": {
        "colab": {
          "base_uri": "https://localhost:8080/"
        },
        "id": "GOKr7NqQ7e0j",
        "outputId": "e7673e89-e110-49ac-dc86-f6f7bb4070a2"
      },
      "execution_count": 30,
      "outputs": [
        {
          "output_type": "stream",
          "name": "stdout",
          "text": [
            "Enter the month number (1-12): 4\n",
            "It's Spring.\n"
          ]
        }
      ]
    },
    {
      "cell_type": "code",
      "source": [
        "# Question 30: Implement a program to determine the type of a year (leap or common) and month (30 or 31 days) using elif statements.\n",
        "\n",
        "# Input the year and month number\n",
        "year = int(input(\"Enter the year: \"))\n",
        "month = int(input(\"Enter the month number (1-12): \"))\n",
        "\n",
        "# Determine if the year is a leap year using elif\n",
        "if year % 4 == 0:\n",
        "    if year % 100 == 0:\n",
        "        if year % 400 == 0:\n",
        "            leap_year = True\n",
        "        else:\n",
        "            leap_year = False\n",
        "    else:\n",
        "        leap_year = True\n",
        "else:\n",
        "    leap_year = False\n",
        "\n",
        "# Determine the number of days in the month using elif\n",
        "if month == 1 or month == 3 or month == 5 or month == 7 or month == 8 or month == 10 or month == 12:\n",
        "    print(f\"Month {month} has 31 days.\")\n",
        "elif month == 4 or month == 6 or month == 9 or month == 11:\n",
        "    print(f\"Month {month} has 30 days.\")\n",
        "elif month == 2:\n",
        "    if leap_year:\n",
        "        print(f\"February in {year} has 29 days.\")\n",
        "    else:\n",
        "        print(f\"February in {year} has 28 days.\")\n",
        "else:\n",
        "    print(\"Invalid month number! Please enter a number between 1 and 12.\")\n"
      ],
      "metadata": {
        "colab": {
          "base_uri": "https://localhost:8080/"
        },
        "id": "Z2x7snPb7e66",
        "outputId": "4b904937-e38e-479f-b638-7bacc3b21655"
      },
      "execution_count": 31,
      "outputs": [
        {
          "output_type": "stream",
          "name": "stdout",
          "text": [
            "Enter the year: 1994\n",
            "Enter the month number (1-12): 4\n",
            "Month 4 has 30 days.\n"
          ]
        }
      ]
    },
    {
      "cell_type": "markdown",
      "source": [
        "**Basic Level:**"
      ],
      "metadata": {
        "id": "uXNFwZhW74F7"
      }
    },
    {
      "cell_type": "code",
      "source": [
        "# Question 1: Write a Python program that checks if a given number is positive, negative, or zero.\n",
        "\n",
        "# Input the number\n",
        "num = float(input(\"Enter a number: \"))\n",
        "\n",
        "# Check if the number is positive, negative, or zero\n",
        "if num > 0:\n",
        "    print(f\"{num} is a positive number.\")\n",
        "elif num < 0:\n",
        "    print(f\"{num} is a negative number.\")\n",
        "else:\n",
        "    print(\"The number is zero.\")\n"
      ],
      "metadata": {
        "colab": {
          "base_uri": "https://localhost:8080/"
        },
        "id": "oC0dy7yH76-W",
        "outputId": "c0eb8285-a77c-4053-8059-0280b3599460"
      },
      "execution_count": 32,
      "outputs": [
        {
          "output_type": "stream",
          "name": "stdout",
          "text": [
            "Enter a number: 10\n",
            "10.0 is a positive number.\n"
          ]
        }
      ]
    },
    {
      "cell_type": "code",
      "source": [
        "# Question 2: Create a program to determine if a person is eligible to vote based on their age.\n",
        "\n",
        "# Input the age\n",
        "age = int(input(\"Enter your age: \"))\n",
        "\n",
        "# Check if the person is eligible to vote\n",
        "if age >= 18:\n",
        "    print(\"You are eligible to vote.\")\n",
        "else:\n",
        "    print(\"You are not eligible to vote.\")\n"
      ],
      "metadata": {
        "colab": {
          "base_uri": "https://localhost:8080/"
        },
        "id": "P-luZipw8EBZ",
        "outputId": "7e59b2c6-cc4b-407f-88a0-366e3a58609f"
      },
      "execution_count": 33,
      "outputs": [
        {
          "output_type": "stream",
          "name": "stdout",
          "text": [
            "Enter your age: 28\n",
            "You are eligible to vote.\n"
          ]
        }
      ]
    },
    {
      "cell_type": "code",
      "source": [
        "# Question 3: Write a program to find the maximum of two given numbers using conditional statements.\n",
        "\n",
        "# Input two numbers\n",
        "num1 = float(input(\"Enter the first number: \"))\n",
        "num2 = float(input(\"Enter the second number: \"))\n",
        "\n",
        "# Find the maximum using conditional statements\n",
        "if num1 > num2:\n",
        "    print(f\"The maximum number is {num1}.\")\n",
        "elif num2 > num1:\n",
        "    print(f\"The maximum number is {num2}.\")\n",
        "else:\n",
        "    print(\"Both numbers are equal.\")\n"
      ],
      "metadata": {
        "colab": {
          "base_uri": "https://localhost:8080/"
        },
        "id": "5oqm8L-I8EIP",
        "outputId": "e2be2389-ed40-4104-ede4-8ec6a04c1033"
      },
      "execution_count": 34,
      "outputs": [
        {
          "output_type": "stream",
          "name": "stdout",
          "text": [
            "Enter the first number: 19\n",
            "Enter the second number: 14\n",
            "The maximum number is 19.0.\n"
          ]
        }
      ]
    },
    {
      "cell_type": "code",
      "source": [
        "# Question 4: Develop a program that calculates the grade of a student based on their exam score.\n",
        "\n",
        "# Input the exam score\n",
        "score = float(input(\"Enter the exam score (0-100): \"))\n",
        "\n",
        "# Calculate the grade\n",
        "if score >= 90:\n",
        "    print(\"Grade: A\")\n",
        "elif score >= 80:\n",
        "    print(\"Grade: B\")\n",
        "elif score >= 70:\n",
        "    print(\"Grade: C\")\n",
        "elif score >= 60:\n",
        "    print(\"Grade: D\")\n",
        "else:\n",
        "    print(\"Grade: F\")\n"
      ],
      "metadata": {
        "colab": {
          "base_uri": "https://localhost:8080/"
        },
        "id": "bNkzOfPO8ENq",
        "outputId": "81cf2da2-7376-4952-b2e9-d66dda8937f0"
      },
      "execution_count": 35,
      "outputs": [
        {
          "output_type": "stream",
          "name": "stdout",
          "text": [
            "Enter the exam score (0-100): 89\n",
            "Grade: B\n"
          ]
        }
      ]
    },
    {
      "cell_type": "code",
      "source": [
        "# Question 5: Create a program that checks if a year is a leap year or not.\n",
        "\n",
        "# Input the year\n",
        "year = int(input(\"Enter a year: \"))\n",
        "\n",
        "# Check if the year is a leap year\n",
        "if (year % 4 == 0 and year % 100 != 0) or (year % 400 == 0):\n",
        "    print(f\"{year} is a leap year.\")\n",
        "else:\n",
        "    print(f\"{year} is not a leap year.\")\n"
      ],
      "metadata": {
        "colab": {
          "base_uri": "https://localhost:8080/"
        },
        "id": "OJMkBIx_8ES4",
        "outputId": "11dfb366-86e1-4fc7-a971-daa1f0a948b4"
      },
      "execution_count": 36,
      "outputs": [
        {
          "output_type": "stream",
          "name": "stdout",
          "text": [
            "Enter a year: 2024\n",
            "2024 is a leap year.\n"
          ]
        }
      ]
    },
    {
      "cell_type": "code",
      "source": [
        "# Question 6: Write a program to classify a triangle based on its sides' lengths.\n",
        "\n",
        "# Input the lengths of the three sides\n",
        "side1 = float(input(\"Enter the first side: \"))\n",
        "side2 = float(input(\"Enter the second side: \"))\n",
        "side3 = float(input(\"Enter the third side: \"))\n",
        "\n",
        "# Classify the triangle based on its sides\n",
        "if side1 == side2 == side3:\n",
        "    print(\"The triangle is equilateral.\")\n",
        "elif side1 == side2 or side2 == side3 or side1 == side3:\n",
        "    print(\"The triangle is isosceles.\")\n",
        "else:\n",
        "    print(\"The triangle is scalene.\")\n"
      ],
      "metadata": {
        "colab": {
          "base_uri": "https://localhost:8080/"
        },
        "id": "ywScfAl98EX-",
        "outputId": "a78a3e66-b2f5-4fd0-aeb9-3201b05e7a54"
      },
      "execution_count": 37,
      "outputs": [
        {
          "output_type": "stream",
          "name": "stdout",
          "text": [
            "Enter the first side: 19\n",
            "Enter the second side: 12\n",
            "Enter the third side: 34\n",
            "The triangle is scalene.\n"
          ]
        }
      ]
    },
    {
      "cell_type": "code",
      "source": [
        "# Question 7: Build a program that determines the largest of three given numbers.\n",
        "\n",
        "# Input three numbers\n",
        "num1 = float(input(\"Enter the first number: \"))\n",
        "num2 = float(input(\"Enter the second number: \"))\n",
        "num3 = float(input(\"Enter the third number: \"))\n",
        "\n",
        "# Find the largest number\n",
        "if num1 >= num2 and num1 >= num3:\n",
        "    print(f\"The largest number is {num1}.\")\n",
        "elif num2 >= num1 and num2 >= num3:\n",
        "    print(f\"The largest number is {num2}.\")\n",
        "else:\n",
        "    print(f\"The largest number is {num3}.\")\n"
      ],
      "metadata": {
        "colab": {
          "base_uri": "https://localhost:8080/"
        },
        "id": "-vUJpmPa8EdH",
        "outputId": "6a409085-72d3-4cfb-8cce-61e7ca3320c6"
      },
      "execution_count": 38,
      "outputs": [
        {
          "output_type": "stream",
          "name": "stdout",
          "text": [
            "Enter the first number: 11\n",
            "Enter the second number: 12\n",
            "Enter the third number: 14\n",
            "The largest number is 14.0.\n"
          ]
        }
      ]
    },
    {
      "cell_type": "code",
      "source": [
        "# Question 8: Develop a program that checks whether a character is a vowel or a consonant.\n",
        "\n",
        "# Input a character\n",
        "char = input(\"Enter a character: \").lower()\n",
        "\n",
        "# Check if the character is a vowel or consonant\n",
        "if char in 'aeiou':\n",
        "    print(f\"The character {char} is a vowel.\")\n",
        "else:\n",
        "    print(f\"The character {char} is a consonant.\")\n"
      ],
      "metadata": {
        "colab": {
          "base_uri": "https://localhost:8080/"
        },
        "id": "NdgDiFwc8Eib",
        "outputId": "0894791a-7f4f-45b2-f826-127e77c42f42"
      },
      "execution_count": 39,
      "outputs": [
        {
          "output_type": "stream",
          "name": "stdout",
          "text": [
            "Enter a character: asif\n",
            "The character asif is a consonant.\n"
          ]
        }
      ]
    },
    {
      "cell_type": "code",
      "source": [
        "# Question 9: Create a program to calculate the total cost of a shopping cart based on discounts.\n",
        "\n",
        "# Input the total cost of the shopping cart\n",
        "cart_total = float(input(\"Enter the total cost of your shopping cart: \"))\n",
        "\n",
        "# Apply discount based on the total cost\n",
        "if cart_total > 100:\n",
        "    discount = 0.10  # 10% discount for purchases over $100\n",
        "elif cart_total > 50:\n",
        "    discount = 0.05  # 5% discount for purchases over $50\n",
        "else:\n",
        "    discount = 0  # No discount for purchases $50 or less\n",
        "\n",
        "# Calculate the total cost after discount\n",
        "total_cost = cart_total - (cart_total * discount)\n",
        "print(f\"The total cost after discount is: ${total_cost:.2f}\")\n"
      ],
      "metadata": {
        "colab": {
          "base_uri": "https://localhost:8080/"
        },
        "id": "eA_1UPhm8EpV",
        "outputId": "38877e2c-767a-485e-d537-59c1d7617d0a"
      },
      "execution_count": 40,
      "outputs": [
        {
          "output_type": "stream",
          "name": "stdout",
          "text": [
            "Enter the total cost of your shopping cart: 100\n",
            "The total cost after discount is: $95.00\n"
          ]
        }
      ]
    },
    {
      "cell_type": "code",
      "source": [
        "# Question 10: Write a program that checks if a given number is even or odd.\n",
        "\n",
        "# Input a number\n",
        "num = int(input(\"Enter a number: \"))\n",
        "\n",
        "# Check if the number is even or odd\n",
        "if num % 2 == 0:\n",
        "    print(f\"{num} is an even number.\")\n",
        "else:\n",
        "    print(f\"{num} is an odd number.\")\n"
      ],
      "metadata": {
        "colab": {
          "base_uri": "https://localhost:8080/"
        },
        "id": "FbYLfSMA8Evn",
        "outputId": "b0e0d46e-b162-4d8f-d9ce-416edf9f5949"
      },
      "execution_count": 41,
      "outputs": [
        {
          "output_type": "stream",
          "name": "stdout",
          "text": [
            "Enter a number: 14\n",
            "14 is an even number.\n"
          ]
        }
      ]
    },
    {
      "cell_type": "markdown",
      "source": [
        "**Intermediate Level:**"
      ],
      "metadata": {
        "id": "auO1s8YM8fku"
      }
    },
    {
      "cell_type": "code",
      "source": [
        "# Question 11: Write a program that calculates the roots of a quadratic equation.\n",
        "\n",
        "import math\n",
        "\n",
        "# Input coefficients\n",
        "a = float(input(\"Enter coefficient a: \"))\n",
        "b = float(input(\"Enter coefficient b: \"))\n",
        "c = float(input(\"Enter coefficient c: \"))\n",
        "\n",
        "# Calculate discriminant\n",
        "discriminant = b**2 - 4*a*c\n",
        "\n",
        "# Calculate roots\n",
        "if discriminant > 0:\n",
        "    root1 = (-b + math.sqrt(discriminant)) / (2*a)\n",
        "    root2 = (-b - math.sqrt(discriminant)) / (2*a)\n",
        "    print(f\"The roots are real and different: {root1} and {root2}\")\n",
        "elif discriminant == 0:\n",
        "    root = -b / (2*a)\n",
        "    print(f\"The root is real and the same: {root}\")\n",
        "else:\n",
        "    real_part = -b / (2*a)\n",
        "    imaginary_part = math.sqrt(-discriminant) / (2*a)\n",
        "    print(f\"The roots are complex: {real_part} ± {imaginary_part}i\")\n"
      ],
      "metadata": {
        "colab": {
          "base_uri": "https://localhost:8080/"
        },
        "id": "bFVCqKc98iG1",
        "outputId": "814fcf40-5dcf-4b35-e02c-ac56902109bc"
      },
      "execution_count": 42,
      "outputs": [
        {
          "output_type": "stream",
          "name": "stdout",
          "text": [
            "Enter coefficient a: 1\n",
            "Enter coefficient b: 2\n",
            "Enter coefficient c: 3\n",
            "The roots are complex: -1.0 ± 1.4142135623730951i\n"
          ]
        }
      ]
    },
    {
      "cell_type": "code",
      "source": [
        "# Question 12: Create a program that determines the day of the week based on the day number (1-7).\n",
        "\n",
        "# Input day number\n",
        "day_number = int(input(\"Enter a day number (1-7): \"))\n",
        "\n",
        "# Determine the day of the week\n",
        "if day_number == 1:\n",
        "    print(\"Monday\")\n",
        "elif day_number == 2:\n",
        "    print(\"Tuesday\")\n",
        "elif day_number == 3:\n",
        "    print(\"Wednesday\")\n",
        "elif day_number == 4:\n",
        "    print(\"Thursday\")\n",
        "elif day_number == 5:\n",
        "    print(\"Friday\")\n",
        "elif day_number == 6:\n",
        "    print(\"Saturday\")\n",
        "elif day_number == 7:\n",
        "    print(\"Sunday\")\n",
        "else:\n",
        "    print(\"Invalid input! Please enter a number between 1 and 7.\")\n"
      ],
      "metadata": {
        "colab": {
          "base_uri": "https://localhost:8080/"
        },
        "id": "XdYVBpY38iVg",
        "outputId": "db3e6439-b4ca-46d0-f513-692a0bb7faf2"
      },
      "execution_count": 43,
      "outputs": [
        {
          "output_type": "stream",
          "name": "stdout",
          "text": [
            "Enter a day number (1-7): 5\n",
            "Friday\n"
          ]
        }
      ]
    },
    {
      "cell_type": "code",
      "source": [
        "# Question 13: Develop a program that calculates the factorial of a given number using recursion.\n",
        "\n",
        "def factorial(n):\n",
        "    # Base case\n",
        "    if n == 0 or n == 1:\n",
        "        return 1\n",
        "    # Recursive case\n",
        "    else:\n",
        "        return n * factorial(n-1)\n",
        "\n",
        "# Input number\n",
        "num = int(input(\"Enter a number: \"))\n",
        "\n",
        "# Calculate and print the factorial\n",
        "print(f\"The factorial of {num} is {factorial(num)}\")\n"
      ],
      "metadata": {
        "colab": {
          "base_uri": "https://localhost:8080/"
        },
        "id": "KgwqXKHd8iev",
        "outputId": "0a0ae121-edf4-4461-e234-405d51824599"
      },
      "execution_count": 44,
      "outputs": [
        {
          "output_type": "stream",
          "name": "stdout",
          "text": [
            "Enter a number: 5\n",
            "The factorial of 5 is 120\n"
          ]
        }
      ]
    },
    {
      "cell_type": "code",
      "source": [
        "# Question 14: Write a program to find the largest among three numbers without using the max() function.\n",
        "\n",
        "# Input three numbers\n",
        "num1 = float(input(\"Enter the first number: \"))\n",
        "num2 = float(input(\"Enter the second number: \"))\n",
        "num3 = float(input(\"Enter the third number: \"))\n",
        "\n",
        "# Find the largest number\n",
        "if num1 >= num2 and num1 >= num3:\n",
        "    print(f\"The largest number is {num1}\")\n",
        "elif num2 >= num1 and num2 >= num3:\n",
        "    print(f\"The largest number is {num2}\")\n",
        "else:\n",
        "    print(f\"The largest number is {num3}\")\n"
      ],
      "metadata": {
        "colab": {
          "base_uri": "https://localhost:8080/"
        },
        "id": "OJPvRiZf8ijx",
        "outputId": "dc97763f-51e0-4ff0-9c7a-bfed02346bab"
      },
      "execution_count": 45,
      "outputs": [
        {
          "output_type": "stream",
          "name": "stdout",
          "text": [
            "Enter the first number: 4\n",
            "Enter the second number: 6\n",
            "Enter the third number: 5\n",
            "The largest number is 6.0\n"
          ]
        }
      ]
    },
    {
      "cell_type": "code",
      "source": [
        "# Question 15: Create a program that simulates a basic ATM transaction menu.\n",
        "\n",
        "balance = 1000  # Initial balance\n",
        "\n",
        "# Display the ATM menu\n",
        "print(\"ATM Menu:\")\n",
        "print(\"1. Check Balance\")\n",
        "print(\"2. Deposit\")\n",
        "print(\"3. Withdraw\")\n",
        "print(\"4. Exit\")\n",
        "\n",
        "while True:\n",
        "    # Input user choice\n",
        "    choice = int(input(\"Enter your choice (1-4): \"))\n",
        "\n",
        "    if choice == 1:\n",
        "        print(f\"Your current balance is: ${balance}\")\n",
        "    elif choice == 2:\n",
        "        deposit = float(input(\"Enter amount to deposit: \"))\n",
        "        balance += deposit\n",
        "        print(f\"Deposited ${deposit}. New balance: ${balance}\")\n",
        "    elif choice == 3:\n",
        "        withdraw = float(input(\"Enter amount to withdraw: \"))\n",
        "        if withdraw > balance:\n",
        "            print(\"Insufficient balance!\")\n",
        "        else:\n",
        "            balance -= withdraw\n",
        "            print(f\"Withdrew ${withdraw}. New balance: ${balance}\")\n",
        "    elif choice == 4:\n",
        "        print(\"Thank you for using the ATM!\")\n",
        "        break\n",
        "    else:\n",
        "        print(\"Invalid choice! Please enter a number between 1 and 4.\")\n"
      ],
      "metadata": {
        "colab": {
          "base_uri": "https://localhost:8080/"
        },
        "id": "fY5Uzdmn8ipL",
        "outputId": "01ffe596-ffbc-4e9b-8db3-7c476b178b83"
      },
      "execution_count": 46,
      "outputs": [
        {
          "output_type": "stream",
          "name": "stdout",
          "text": [
            "ATM Menu:\n",
            "1. Check Balance\n",
            "2. Deposit\n",
            "3. Withdraw\n",
            "4. Exit\n",
            "Enter your choice (1-4): 2\n",
            "Enter amount to deposit: 200\n",
            "Deposited $200.0. New balance: $1200.0\n",
            "Enter your choice (1-4): 3\n",
            "Enter amount to withdraw: 500\n",
            "Withdrew $500.0. New balance: $700.0\n",
            "Enter your choice (1-4): 1\n",
            "Your current balance is: $700.0\n",
            "Enter your choice (1-4): 4\n",
            "Thank you for using the ATM!\n"
          ]
        }
      ]
    },
    {
      "cell_type": "code",
      "source": [
        "# Question 16: Build a program that checks if a given string is a palindrome or not.\n",
        "\n",
        "# Input the string\n",
        "string = input(\"Enter a string: \").lower()\n",
        "\n",
        "# Check if the string is a palindrome\n",
        "if string == string[::-1]:\n",
        "    print(\"The string is a palindrome.\")\n",
        "else:\n",
        "    print(\"The string is not a palindrome.\")\n"
      ],
      "metadata": {
        "colab": {
          "base_uri": "https://localhost:8080/"
        },
        "id": "Lunf0Kcm8iuV",
        "outputId": "99dd9609-8fd1-4cca-84df-981ad4fe6017"
      },
      "execution_count": 47,
      "outputs": [
        {
          "output_type": "stream",
          "name": "stdout",
          "text": [
            "Enter a string: asif\n",
            "The string is not a palindrome.\n"
          ]
        }
      ]
    },
    {
      "cell_type": "code",
      "source": [
        "# Question 17: Write a program that calculates the average of a list of numbers, excluding the smallest and largest values.\n",
        "\n",
        "# Input a list of numbers\n",
        "numbers = [float(x) for x in input(\"Enter numbers separated by space: \").split()]\n",
        "\n",
        "# Remove the smallest and largest values\n",
        "numbers.remove(min(numbers))\n",
        "numbers.remove(max(numbers))\n",
        "\n",
        "# Calculate the average\n",
        "average = sum(numbers) / len(numbers)\n",
        "print(f\"The average, excluding the smallest and largest values, is: {average}\")\n"
      ],
      "metadata": {
        "colab": {
          "base_uri": "https://localhost:8080/"
        },
        "id": "vQave2Ih8iz3",
        "outputId": "898eab49-63d9-4024-a9b8-4bebbc940c1c"
      },
      "execution_count": 48,
      "outputs": [
        {
          "output_type": "stream",
          "name": "stdout",
          "text": [
            "Enter numbers separated by space: 1 2 3\n",
            "The average, excluding the smallest and largest values, is: 2.0\n"
          ]
        }
      ]
    },
    {
      "cell_type": "code",
      "source": [
        "# Question 18: Develop a program that converts a given temperature from Celsius to Fahrenheit.\n",
        "\n",
        "# Input temperature in Celsius\n",
        "celsius = float(input(\"Enter temperature in Celsius: \"))\n",
        "\n",
        "# Convert to Fahrenheit\n",
        "fahrenheit = (celsius * 9/5) + 32\n",
        "print(f\"The temperature in Fahrenheit is: {fahrenheit}\")\n"
      ],
      "metadata": {
        "colab": {
          "base_uri": "https://localhost:8080/"
        },
        "id": "PA0vsIcG8i4k",
        "outputId": "46543888-4d8c-4d91-82ec-49f3b7031381"
      },
      "execution_count": 49,
      "outputs": [
        {
          "output_type": "stream",
          "name": "stdout",
          "text": [
            "Enter temperature in Celsius: 89\n",
            "The temperature in Fahrenheit is: 192.2\n"
          ]
        }
      ]
    },
    {
      "cell_type": "code",
      "source": [
        "# Question 19: Create a program that simulates a basic calculator for addition, subtraction, multiplication, and division.\n",
        "\n",
        "# Input two numbers\n",
        "num1 = float(input(\"Enter the first number: \"))\n",
        "num2 = float(input(\"Enter the second number: \"))\n",
        "\n",
        "# Display the calculator menu\n",
        "print(\"Select an operation:\")\n",
        "print(\"1. Addition\")\n",
        "print(\"2. Subtraction\")\n",
        "print(\"3. Multiplication\")\n",
        "print(\"4. Division\")\n",
        "\n",
        "# Input user choice\n",
        "operation = input(\"Enter your choice (1/2/3/4): \")\n",
        "\n",
        "# Perform the operation\n",
        "if operation == '1':\n",
        "    result = num1 + num2\n",
        "    print(f\"Result: {num1} + {num2} = {result}\")\n",
        "elif operation == '2':\n",
        "    result = num1 - num2\n",
        "    print(f\"Result: {num1} - {num2} = {result}\")\n",
        "elif operation == '3':\n",
        "    result = num1 * num2\n",
        "    print(f\"Result: {num1} * {num2} = {result}\")\n",
        "elif operation == '4':\n",
        "    if num2 == 0:\n",
        "        print(\"Error! Division by zero.\")\n",
        "    else:\n",
        "        result = num1 / num2\n",
        "        print(f\"Result: {num1} / {num2} = {result}\")\n",
        "else:\n",
        "    print(\"Invalid input! Please select a valid operation.\")\n"
      ],
      "metadata": {
        "colab": {
          "base_uri": "https://localhost:8080/"
        },
        "id": "14qFxhm18i9O",
        "outputId": "83c71cf2-3caf-41ac-e863-6f582dab1a88"
      },
      "execution_count": 50,
      "outputs": [
        {
          "output_type": "stream",
          "name": "stdout",
          "text": [
            "Enter the first number: 1\n",
            "Enter the second number: 2\n",
            "Select an operation:\n",
            "1. Addition\n",
            "2. Subtraction\n",
            "3. Multiplication\n",
            "4. Division\n",
            "Enter your choice (1/2/3/4): 1\n",
            "Result: 1.0 + 2.0 = 3.0\n"
          ]
        }
      ]
    },
    {
      "cell_type": "code",
      "source": [
        "# Question 20: Write a program that determines the roots of a cubic equation using the Cardano formula.\n",
        "\n",
        "import cmath\n",
        "\n",
        "# Input coefficients of the cubic equation (ax^3 + bx^2 + cx + d = 0)\n",
        "a = float(input(\"Enter coefficient a: \"))\n",
        "b = float(input(\"Enter coefficient b: \"))\n",
        "c = float(input(\"Enter coefficient c: \"))\n",
        "d = float(input(\"Enter coefficient d: \"))\n",
        "\n",
        "# Calculate the discriminant\n",
        "delta_0 = b**2 - 3*a*c\n",
        "delta_1 = 2*b**3 - 9*a*b*c + 27*a**2*d\n",
        "\n",
        "# Calculate the discriminant's cube root\n",
        "C = cmath.sqrt((delta_1**2 - 4*delta_0**3) / -27)\n",
        "\n",
        "# Calculate the roots using Cardano's formula\n",
        "theta = cmath.phase(C) / 3\n",
        "r = cmath.sqrt(delta_0 / 3)\n",
        "\n",
        "# Three roots using Cardano's formula\n",
        "root1 = -1/(3*a) * (b + 2*r*cmath.cos(theta))\n",
        "root2 = -1/(3*a) * (b + 2*r*cmath.cos(theta + 2*cmath.pi/3))\n",
        "root3 = -1/(3*a) * (b + 2*r*cmath.cos(theta - 2*cmath.pi/3))\n",
        "\n",
        "print(f\"The roots of the cubic equation are: {root1}, {root2}, and {root3}\")\n"
      ],
      "metadata": {
        "colab": {
          "base_uri": "https://localhost:8080/"
        },
        "id": "R32lX7wr8jFq",
        "outputId": "6841998c-2281-4588-b6c5-04b4af085ba0"
      },
      "execution_count": 51,
      "outputs": [
        {
          "output_type": "stream",
          "name": "stdout",
          "text": [
            "Enter coefficient a: 1\n",
            "Enter coefficient b: 2\n",
            "Enter coefficient c: 3\n",
            "Enter coefficient d: 4\n",
            "The roots of the cubic equation are: (-0.6666666666666666-0.7453559924999299j), (-0.6666666666666666+0.7453559924999298j), and (-0.6666666666666666-5.2700407312043535e-17j)\n"
          ]
        }
      ]
    },
    {
      "cell_type": "markdown",
      "source": [
        "**Advanced Level:**"
      ],
      "metadata": {
        "id": "ADKuqWxK88tv"
      }
    },
    {
      "cell_type": "code",
      "source": [
        "# Question 21: Create a program that calculates the income tax based on the user's income and tax brackets.\n",
        "\n",
        "def calculate_tax(income):\n",
        "    # Define tax brackets (Example: Tax brackets in the US for simplicity)\n",
        "    if income <= 9875:\n",
        "        tax = income * 0.10\n",
        "    elif income <= 40125:\n",
        "        tax = 9875 * 0.10 + (income - 9875) * 0.12\n",
        "    elif income <= 85525:\n",
        "        tax = 9875 * 0.10 + (40125 - 9875) * 0.12 + (income - 40125) * 0.22\n",
        "    elif income <= 163300:\n",
        "        tax = 9875 * 0.10 + (40125 - 9875) * 0.12 + (85525 - 40125) * 0.22 + (income - 85525) * 0.24\n",
        "    elif income <= 207350:\n",
        "        tax = 9875 * 0.10 + (40125 - 9875) * 0.12 + (85525 - 40125) * 0.22 + (163300 - 85525) * 0.24 + (income - 163300) * 0.32\n",
        "    elif income <= 518400:\n",
        "        tax = 9875 * 0.10 + (40125 - 9875) * 0.12 + (85525 - 40125) * 0.22 + (163300 - 85525) * 0.24 + (207350 - 163300) * 0.32 + (income - 207350) * 0.35\n",
        "    else:\n",
        "        tax = 9875 * 0.10 + (40125 - 9875) * 0.12 + (85525 - 40125) * 0.22 + (163300 - 85525) * 0.24 + (207350 - 163300) * 0.32 + (518400 - 207350) * 0.35 + (income - 518400) * 0.37\n",
        "\n",
        "    return tax\n",
        "\n",
        "# Input user's income\n",
        "income = float(input(\"Enter your income: $\"))\n",
        "\n",
        "# Calculate and display the tax\n",
        "tax = calculate_tax(income)\n",
        "print(f\"Your income tax is: ${tax:.2f}\")\n"
      ],
      "metadata": {
        "colab": {
          "base_uri": "https://localhost:8080/"
        },
        "id": "9FxKxIoH89_O",
        "outputId": "730cf5fd-c43e-4273-d773-b4aaaa583234"
      },
      "execution_count": 52,
      "outputs": [
        {
          "output_type": "stream",
          "name": "stdout",
          "text": [
            "Enter your income: $1000\n",
            "Your income tax is: $100.00\n"
          ]
        }
      ]
    },
    {
      "cell_type": "code",
      "source": [
        "# Question 22: Write a program that simulates a rock-paper-scissors game against the computer.\n",
        "\n",
        "import random\n",
        "\n",
        "# Function to determine the winner\n",
        "def determine_winner(player_choice, computer_choice):\n",
        "    if player_choice == computer_choice:\n",
        "        return \"It's a tie!\"\n",
        "    elif (player_choice == \"rock\" and computer_choice == \"scissors\") or \\\n",
        "         (player_choice == \"scissors\" and computer_choice == \"paper\") or \\\n",
        "         (player_choice == \"paper\" and computer_choice == \"rock\"):\n",
        "        return \"You win!\"\n",
        "    else:\n",
        "        return \"You lose!\"\n",
        "\n",
        "# Game loop\n",
        "choices = [\"rock\", \"paper\", \"scissors\"]\n",
        "while True:\n",
        "    # Get player's choice\n",
        "    player_choice = input(\"Enter your choice (rock, paper, or scissors): \").lower()\n",
        "\n",
        "    if player_choice not in choices:\n",
        "        print(\"Invalid choice. Please try again.\")\n",
        "        continue\n",
        "\n",
        "    # Get computer's choice\n",
        "    computer_choice = random.choice(choices)\n",
        "    print(f\"Computer's choice: {computer_choice}\")\n",
        "\n",
        "    # Determine the winner\n",
        "    result = determine_winner(player_choice, computer_choice)\n",
        "    print(result)\n",
        "\n",
        "    # Ask if the player wants to play again\n",
        "    play_again = input(\"Do you want to play again? (yes/no): \").lower()\n",
        "    if play_again != \"yes\":\n",
        "        break\n"
      ],
      "metadata": {
        "colab": {
          "base_uri": "https://localhost:8080/"
        },
        "id": "roVJY3Yd8-nq",
        "outputId": "645fe13c-22df-4b03-c3fc-d50ec281ac2a"
      },
      "execution_count": 53,
      "outputs": [
        {
          "name": "stdout",
          "output_type": "stream",
          "text": [
            "Enter your choice (rock, paper, or scissors): rock\n",
            "Computer's choice: scissors\n",
            "You win!\n",
            "Do you want to play again? (yes/no): no\n"
          ]
        }
      ]
    },
    {
      "cell_type": "code",
      "source": [
        "# Question 23: Develop a program that generates a random password based on user preferences (length, complexity).\n",
        "\n",
        "import random\n",
        "import string\n",
        "\n",
        "def generate_password(length, complexity):\n",
        "    if complexity == 'simple':\n",
        "        # Simple password: Lowercase letters only\n",
        "        characters = string.ascii_lowercase\n",
        "    elif complexity == 'medium':\n",
        "        # Medium password: Lowercase and uppercase letters\n",
        "        characters = string.ascii_letters\n",
        "    elif complexity == 'high':\n",
        "        # High complexity password: Letters and digits\n",
        "        characters = string.ascii_letters + string.digits\n",
        "    else:\n",
        "        # Very high complexity password: Letters, digits, and symbols\n",
        "        characters = string.ascii_letters + string.digits + string.punctuation\n",
        "\n",
        "    # Generate random password\n",
        "    password = ''.join(random.choice(characters) for _ in range(length))\n",
        "    return password\n",
        "\n",
        "# Input preferences\n",
        "length = int(input(\"Enter the desired password length: \"))\n",
        "complexity = input(\"Enter the complexity (simple/medium/high/very high): \").lower()\n",
        "\n",
        "# Generate and display the password\n",
        "password = generate_password(length, complexity)\n",
        "print(f\"Generated password: {password}\")\n"
      ],
      "metadata": {
        "colab": {
          "base_uri": "https://localhost:8080/"
        },
        "id": "LoBDi2m58-yX",
        "outputId": "3fe41a97-eecd-4ebf-dde5-a796a82db5a9"
      },
      "execution_count": 54,
      "outputs": [
        {
          "output_type": "stream",
          "name": "stdout",
          "text": [
            "Enter the desired password length: 8\n",
            "Enter the complexity (simple/medium/high/very high): very high\n",
            "Generated password: 9#\"_oi3f\n"
          ]
        }
      ]
    },
    {
      "cell_type": "code",
      "source": [
        "# Question 24: Create a program that implements a simple text-based adventure game with branching scenarios.\n",
        "\n",
        "def adventure_game():\n",
        "    print(\"Welcome to the Adventure Game!\")\n",
        "    print(\"You are standing at the entrance of a dark forest.\")\n",
        "    print(\"Do you want to enter the forest or walk away?\")\n",
        "\n",
        "    choice1 = input(\"Enter 'forest' to enter the forest or 'away' to walk away: \").lower()\n",
        "\n",
        "    if choice1 == \"forest\":\n",
        "        print(\"You have entered the forest. It's dark and mysterious.\")\n",
        "        print(\"Do you want to explore deeper or turn back?\")\n",
        "\n",
        "        choice2 = input(\"Enter 'explore' to explore deeper or 'turn back' to return: \").lower()\n",
        "\n",
        "        if choice2 == \"explore\":\n",
        "            print(\"You discover a hidden treasure chest!\")\n",
        "            print(\"Congratulations, you've won the game!\")\n",
        "        elif choice2 == \"turn back\":\n",
        "            print(\"You turned back safely. Maybe next time you will be brave enough to explore.\")\n",
        "        else:\n",
        "            print(\"Invalid choice. Game over!\")\n",
        "    elif choice1 == \"away\":\n",
        "        print(\"You decided to walk away. Maybe you'll return someday.\")\n",
        "    else:\n",
        "        print(\"Invalid choice. Game over!\")\n",
        "\n",
        "# Start the game\n",
        "adventure_game()\n"
      ],
      "metadata": {
        "colab": {
          "base_uri": "https://localhost:8080/"
        },
        "id": "tNKsd3Iy8-5s",
        "outputId": "1e057165-9d29-4d90-c575-e81f88d03215"
      },
      "execution_count": 55,
      "outputs": [
        {
          "output_type": "stream",
          "name": "stdout",
          "text": [
            "Welcome to the Adventure Game!\n",
            "You are standing at the entrance of a dark forest.\n",
            "Do you want to enter the forest or walk away?\n",
            "Enter 'forest' to enter the forest or 'away' to walk away: forest\n",
            "You have entered the forest. It's dark and mysterious.\n",
            "Do you want to explore deeper or turn back?\n",
            "Enter 'explore' to explore deeper or 'turn back' to return: explore\n",
            "You discover a hidden treasure chest!\n",
            "Congratulations, you've won the game!\n"
          ]
        }
      ]
    },
    {
      "cell_type": "code",
      "source": [
        "# Question 25: Build a program that solves a linear equation for x, considering different cases.\n",
        "\n",
        "# Solving ax + b = 0\n",
        "def solve_linear(a, b):\n",
        "    if a == 0:\n",
        "        if b == 0:\n",
        "            return \"Infinite solutions\"\n",
        "        else:\n",
        "            return \"No solution\"\n",
        "    else:\n",
        "        return -b / a\n",
        "\n",
        "# Input coefficients\n",
        "a = float(input(\"Enter coefficient a: \"))\n",
        "b = float(input(\"Enter coefficient b: \"))\n",
        "\n",
        "# Solve and display the solution\n",
        "solution = solve_linear(a, b)\n",
        "print(f\"Solution: {solution}\")\n"
      ],
      "metadata": {
        "colab": {
          "base_uri": "https://localhost:8080/"
        },
        "id": "5CeqAXPK8_A8",
        "outputId": "612fda5c-0995-4fcb-ae16-1a0bf778ad75"
      },
      "execution_count": 56,
      "outputs": [
        {
          "output_type": "stream",
          "name": "stdout",
          "text": [
            "Enter coefficient a: 1\n",
            "Enter coefficient b: 2\n",
            "Solution: -2.0\n"
          ]
        }
      ]
    },
    {
      "cell_type": "code",
      "source": [
        "# Question 26: Write a program that simulates a basic quiz game with multiple-choice questions and scoring.\n",
        "\n",
        "def quiz_game():\n",
        "    score = 0\n",
        "    questions = [\n",
        "        {\"question\": \"What is the capital of France?\", \"options\": [\"A. Paris\", \"B. London\", \"C. Berlin\", \"D. Madrid\"], \"answer\": \"A\"},\n",
        "        {\"question\": \"Which planet is known as the Red Planet?\", \"options\": [\"A. Earth\", \"B. Mars\", \"C. Venus\", \"D. Jupiter\"], \"answer\": \"B\"},\n",
        "        {\"question\": \"Who wrote 'Harry Potter'?\", \"options\": [\"A. J.K. Rowling\", \"B. George Orwell\", \"C. Mark Twain\", \"D. Ernest Hemingway\"], \"answer\": \"A\"}\n",
        "    ]\n",
        "\n",
        "    for q in questions:\n",
        "        print(q[\"question\"])\n",
        "        for option in q[\"options\"]:\n",
        "            print(option)\n",
        "        answer = input(\"Enter your answer: \").upper()\n",
        "        if answer == q[\"answer\"]:\n",
        "            score += 1\n",
        "\n",
        "    print(f\"Your score: {score}/{len(questions)}\")\n",
        "\n",
        "# Start the quiz\n",
        "quiz_game()\n"
      ],
      "metadata": {
        "colab": {
          "base_uri": "https://localhost:8080/"
        },
        "id": "IqCGRJZd8_Hc",
        "outputId": "0e02b9db-26cb-4e1b-f160-6ff440a912ca"
      },
      "execution_count": 57,
      "outputs": [
        {
          "output_type": "stream",
          "name": "stdout",
          "text": [
            "What is the capital of France?\n",
            "A. Paris\n",
            "B. London\n",
            "C. Berlin\n",
            "D. Madrid\n",
            "Enter your answer: A\n",
            "Which planet is known as the Red Planet?\n",
            "A. Earth\n",
            "B. Mars\n",
            "C. Venus\n",
            "D. Jupiter\n",
            "Enter your answer: B\n",
            "Who wrote 'Harry Potter'?\n",
            "A. J.K. Rowling\n",
            "B. George Orwell\n",
            "C. Mark Twain\n",
            "D. Ernest Hemingway\n",
            "Enter your answer: A\n",
            "Your score: 3/3\n"
          ]
        }
      ]
    },
    {
      "cell_type": "code",
      "source": [
        "# Question 27: Develop a program that determines whether a given year is a prime number or not.\n",
        "\n",
        "def is_prime(year):\n",
        "    if year < 2:\n",
        "        return False\n",
        "    for i in range(2, int(year ** 0.5) + 1):\n",
        "        if year % i == 0:\n",
        "            return False\n",
        "    return True\n",
        "\n",
        "# Input the year\n",
        "year = int(input(\"Enter a year: \"))\n",
        "\n",
        "# Check if the year is prime\n",
        "if is_prime(year):\n",
        "    print(f\"{year} is a prime number.\")\n",
        "else:\n",
        "    print(f\"{year} is not a prime number.\")\n"
      ],
      "metadata": {
        "colab": {
          "base_uri": "https://localhost:8080/"
        },
        "id": "sMKDDRgX8_OB",
        "outputId": "8e4e8726-bf46-4077-b9aa-5cbe36726328"
      },
      "execution_count": 58,
      "outputs": [
        {
          "output_type": "stream",
          "name": "stdout",
          "text": [
            "Enter a year: 2024\n",
            "2024 is not a prime number.\n"
          ]
        }
      ]
    },
    {
      "cell_type": "code",
      "source": [
        "# Question 28: Create a program that sorts three numbers in ascending order using conditional statements.\n",
        "\n",
        "# Input three numbers\n",
        "num1 = float(input(\"Enter the first number: \"))\n",
        "num2 = float(input(\"Enter the second number: \"))\n",
        "num3 = float(input(\"Enter the third number: \"))\n",
        "\n",
        "# Sort the numbers\n",
        "if num1 <= num2 and num1 <= num3:\n",
        "    smallest = num1\n",
        "    if num2 <= num3:\n",
        "        middle, largest = num2, num3\n",
        "    else:\n",
        "        middle, largest = num3, num2\n",
        "elif num2 <= num1 and num2 <= num3:\n",
        "    smallest = num2\n",
        "    if num1 <= num3:\n",
        "        middle, largest = num1, num3\n",
        "    else:\n",
        "        middle, largest = num3, num1\n",
        "else:\n",
        "    smallest = num3\n",
        "    if num1 <= num2:\n",
        "        middle, largest = num1, num2\n",
        "    else:\n",
        "        middle, largest = num2, num1\n",
        "\n",
        "print(f\"Sorted numbers: {smallest}, {middle}, {largest}\")\n"
      ],
      "metadata": {
        "colab": {
          "base_uri": "https://localhost:8080/"
        },
        "id": "SAfSZg2J8_U4",
        "outputId": "992a97ba-ede1-4e17-e8ce-f74b81929cbc"
      },
      "execution_count": 59,
      "outputs": [
        {
          "output_type": "stream",
          "name": "stdout",
          "text": [
            "Enter the first number: 10\n",
            "Enter the second number: 11\n",
            "Enter the third number: 12\n",
            "Sorted numbers: 10.0, 11.0, 12.0\n"
          ]
        }
      ]
    },
    {
      "cell_type": "code",
      "source": [
        "# Question 30: Build a program that determines the roots of a quartic equation using numerical methods.\n",
        "\n",
        "import numpy as np\n",
        "\n",
        "# Function to find the roots of a quartic equation\n",
        "def find_quartic_roots(a, b, c, d, e):\n",
        "    # Coefficients of the quartic equation\n",
        "    coefficients = [a, b, c, d, e]\n",
        "\n",
        "    # Use numpy's roots function to calculate the roots\n",
        "    roots = np.roots(coefficients)\n",
        "\n",
        "    # Return the roots\n",
        "    return roots\n",
        "\n",
        "# Get user input for the coefficients of the quartic equation\n",
        "print(\"Enter the coefficients of the quartic equation (ax^4 + bx^3 + cx^2 + dx + e = 0):\")\n",
        "a = float(input(\"Enter coefficient a (for x^4): \"))\n",
        "b = float(input(\"Enter coefficient b (for x^3): \"))\n",
        "c = float(input(\"Enter coefficient c (for x^2): \"))\n",
        "d = float(input(\"Enter coefficient d (for x): \"))\n",
        "e = float(input(\"Enter coefficient e (constant term): \"))\n",
        "\n",
        "# Call the function to find the roots\n",
        "roots = find_quartic_roots(a, b, c, d, e)\n",
        "\n",
        "# Display the roots\n",
        "print(\"\\nThe roots of the equation are:\")\n",
        "for root in roots:\n",
        "    print(root)\n",
        "\n"
      ],
      "metadata": {
        "colab": {
          "base_uri": "https://localhost:8080/"
        },
        "id": "PkjchMV58_bQ",
        "outputId": "4fc400a3-94fc-41c9-a3b8-89b8a438073f"
      },
      "execution_count": 60,
      "outputs": [
        {
          "output_type": "stream",
          "name": "stdout",
          "text": [
            "Enter the coefficients of the quartic equation (ax^4 + bx^3 + cx^2 + dx + e = 0):\n",
            "Enter coefficient a (for x^4): 1\n",
            "Enter coefficient b (for x^3): 2\n",
            "Enter coefficient c (for x^2): 3\n",
            "Enter coefficient d (for x): 6\n",
            "Enter coefficient e (constant term): 8\n",
            "\n",
            "The roots of the equation are:\n",
            "(0.45651075185305373+1.6463229855726207j)\n",
            "(0.45651075185305373-1.6463229855726207j)\n",
            "(-1.4565107518530542+0.7870490861415431j)\n",
            "(-1.4565107518530542-0.7870490861415431j)\n"
          ]
        }
      ]
    },
    {
      "cell_type": "code",
      "source": [
        "# Question 30: Write a program that calculates the BMI (Body Mass Index) and provides health recommendations based on the user's input.\n",
        "\n",
        "def calculate_bmi(weight, height):\n",
        "    return weight / (height ** 2)\n",
        "\n",
        "def health_recommendation(bmi):\n",
        "    if bmi < 18.5:\n",
        "        return \"Underweight - You should aim to gain weight.\"\n",
        "    elif 18.5 <= bmi < 24.9:\n",
        "        return \"Normal weight - Keep up the good work!\"\n",
        "    elif 25 <= bmi < 29.9:\n",
        "        return \"Overweight - Consider a healthier lifestyle.\"\n",
        "    else:\n",
        "        return \"Obesity - You should consult a healthcare provider.\"\n",
        "\n",
        "# Input weight (in kg) and height (in meters)\n",
        "weight = float(input(\"Enter your weight (kg): \"))\n",
        "height = float(input(\"Enter your height (m): \"))\n",
        "\n",
        "# Calculate BMI and provide health recommendation\n",
        "bmi = calculate_bmi(weight, height)\n",
        "recommendation = health_recommendation(bmi)\n",
        "\n",
        "print(f\"Your BMI is: {bmi:.2f}\")\n",
        "print(recommendation)\n"
      ],
      "metadata": {
        "colab": {
          "base_uri": "https://localhost:8080/"
        },
        "id": "Mpgdjo6x8_kB",
        "outputId": "13034103-3567-4bfc-fdd4-b5cfc44bc417"
      },
      "execution_count": 61,
      "outputs": [
        {
          "output_type": "stream",
          "name": "stdout",
          "text": [
            "Enter your weight (kg): 85\n",
            "Enter your height (m): 1.8\n",
            "Your BMI is: 26.23\n",
            "Overweight - Consider a healthier lifestyle.\n"
          ]
        }
      ]
    },
    {
      "cell_type": "markdown",
      "source": [
        "**Challenge Level **"
      ],
      "metadata": {
        "id": "w4e0aSR9-avq"
      }
    },
    {
      "cell_type": "code",
      "source": [
        "# Question 31: Create a program that validates a password based on complexity rules (length, characters, etc.).\n",
        "\n",
        "import re\n",
        "\n",
        "def validate_password(password):\n",
        "    # Check if password is at least 8 characters long\n",
        "    if len(password) < 8:\n",
        "        return \"Password must be at least 8 characters long.\"\n",
        "\n",
        "    # Check for uppercase, lowercase, digit, and special character\n",
        "    if not re.search(r'[A-Z]', password):\n",
        "        return \"Password must contain at least one uppercase letter.\"\n",
        "    if not re.search(r'[a-z]', password):\n",
        "        return \"Password must contain at least one lowercase letter.\"\n",
        "    if not re.search(r'\\d', password):\n",
        "        return \"Password must contain at least one digit.\"\n",
        "    if not re.search(r'[@$!%*?&]', password):\n",
        "        return \"Password must contain at least one special character.\"\n",
        "\n",
        "    return \"Password is valid!\"\n",
        "\n",
        "# Test the function\n",
        "password = input(\"Enter a password: \")\n",
        "print(validate_password(password))\n"
      ],
      "metadata": {
        "colab": {
          "base_uri": "https://localhost:8080/"
        },
        "id": "vuhr5MmE-cSk",
        "outputId": "d58e9525-8f70-469d-ffbb-b1ef914680b0"
      },
      "execution_count": 62,
      "outputs": [
        {
          "output_type": "stream",
          "name": "stdout",
          "text": [
            "Enter a password: 123456\n",
            "Password must be at least 8 characters long.\n"
          ]
        }
      ]
    },
    {
      "cell_type": "code",
      "source": [
        "# Question 32: Develop a program that performs matrix addition and subtraction based on user input.\n",
        "\n",
        "def get_matrix(rows, cols):\n",
        "    matrix = []\n",
        "    for i in range(rows):\n",
        "        row = list(map(int, input(f\"Enter row {i+1} (space separated values): \").split()))\n",
        "        matrix.append(row)\n",
        "    return matrix\n",
        "\n",
        "def matrix_addition(matrix1, matrix2):\n",
        "    return [[matrix1[i][j] + matrix2[i][j] for j in range(len(matrix1[0]))] for i in range(len(matrix1))]\n",
        "\n",
        "def matrix_subtraction(matrix1, matrix2):\n",
        "    return [[matrix1[i][j] - matrix2[i][j] for j in range(len(matrix1[0]))] for i in range(len(matrix1))]\n",
        "\n",
        "def print_matrix(matrix):\n",
        "    for row in matrix:\n",
        "        print(\" \".join(map(str, row)))\n",
        "\n",
        "# Get matrix dimensions from the user\n",
        "rows = int(input(\"Enter number of rows: \"))\n",
        "cols = int(input(\"Enter number of columns: \"))\n",
        "\n",
        "print(\"Enter values for Matrix 1:\")\n",
        "matrix1 = get_matrix(rows, cols)\n",
        "\n",
        "print(\"Enter values for Matrix 2:\")\n",
        "matrix2 = get_matrix(rows, cols)\n",
        "\n",
        "# Perform addition and subtraction\n",
        "print(\"\\nMatrix 1 + Matrix 2:\")\n",
        "result_add = matrix_addition(matrix1, matrix2)\n",
        "print_matrix(result_add)\n",
        "\n",
        "print(\"\\nMatrix 1 - Matrix 2:\")\n",
        "result_sub = matrix_subtraction(matrix1, matrix2)\n",
        "print_matrix(result_sub)\n"
      ],
      "metadata": {
        "colab": {
          "base_uri": "https://localhost:8080/"
        },
        "id": "NZkt_lWa-cbc",
        "outputId": "6135e9cc-a0ae-4964-ed03-4bc2bbff0a21"
      },
      "execution_count": 63,
      "outputs": [
        {
          "output_type": "stream",
          "name": "stdout",
          "text": [
            "Enter number of rows: 2\n",
            "Enter number of columns: 2\n",
            "Enter values for Matrix 1:\n",
            "Enter row 1 (space separated values): 1\n",
            "Enter row 2 (space separated values): 2\n",
            "Enter values for Matrix 2:\n",
            "Enter row 1 (space separated values): 1\n",
            "Enter row 2 (space separated values): 2\n",
            "\n",
            "Matrix 1 + Matrix 2:\n",
            "2\n",
            "4\n",
            "\n",
            "Matrix 1 - Matrix 2:\n",
            "0\n",
            "0\n"
          ]
        }
      ]
    },
    {
      "cell_type": "code",
      "source": [
        "# Question 33: Write a program that calculates the greatest common divisor (GCD) of two numbers using the Euclidean algorithm.\n",
        "\n",
        "def gcd(a, b):\n",
        "    while b:\n",
        "        a, b = b, a % b\n",
        "    return a\n",
        "\n",
        "# Test the function\n",
        "a = int(input(\"Enter first number: \"))\n",
        "b = int(input(\"Enter second number: \"))\n",
        "print(f\"The GCD of {a} and {b} is {gcd(a, b)}\")\n"
      ],
      "metadata": {
        "colab": {
          "base_uri": "https://localhost:8080/"
        },
        "id": "AT_w-kZn-ciS",
        "outputId": "5e890658-ece0-4f52-e1c6-331253729535"
      },
      "execution_count": 64,
      "outputs": [
        {
          "output_type": "stream",
          "name": "stdout",
          "text": [
            "Enter first number: 1\n",
            "Enter second number: 2\n",
            "The GCD of 1 and 2 is 1\n"
          ]
        }
      ]
    },
    {
      "cell_type": "code",
      "source": [
        "# Question 34: Build a program that performs matrix multiplication using nested loops and conditional statements.\n",
        "\n",
        "def get_matrix(rows, cols):\n",
        "    matrix = []\n",
        "    for i in range(rows):\n",
        "        row = list(map(int, input(f\"Enter row {i+1} (space separated values): \").split()))\n",
        "        matrix.append(row)\n",
        "    return matrix\n",
        "\n",
        "def matrix_multiplication(matrix1, matrix2, rows1, cols1, rows2, cols2):\n",
        "    if cols1 != rows2:\n",
        "        return \"Matrix multiplication not possible. Number of columns of first matrix must equal number of rows of second matrix.\"\n",
        "\n",
        "    result = [[0 for _ in range(cols2)] for _ in range(rows1)]\n",
        "\n",
        "    for i in range(rows1):\n",
        "        for j in range(cols2):\n",
        "            for k in range(cols1):\n",
        "                result[i][j] += matrix1[i][k] * matrix2[k][j]\n",
        "\n",
        "    return result\n",
        "\n",
        "def print_matrix(matrix):\n",
        "    for row in matrix:\n",
        "        print(\" \".join(map(str, row)))\n",
        "\n",
        "# Get matrix dimensions from the user\n",
        "rows1 = int(input(\"Enter number of rows for Matrix 1: \"))\n",
        "cols1 = int(input(\"Enter number of columns for Matrix 1: \"))\n",
        "\n",
        "rows2 = int(input(\"Enter number of rows for Matrix 2: \"))\n",
        "cols2 = int(input(\"Enter number of columns for Matrix 2: \"))\n",
        "\n",
        "print(\"Enter values for Matrix 1:\")\n",
        "matrix1 = get_matrix(rows1, cols1)\n",
        "\n",
        "print(\"Enter values for Matrix 2:\")\n",
        "matrix2 = get_matrix(rows2, cols2)\n",
        "\n",
        "# Perform matrix multiplication\n",
        "result = matrix_multiplication(matrix1, matrix2, rows1, cols1, rows2, cols2)\n",
        "\n",
        "if isinstance(result, str):\n",
        "    print(result)\n",
        "else:\n",
        "    print(\"\\nMatrix 1 * Matrix 2:\")\n",
        "    print_matrix(result)\n"
      ],
      "metadata": {
        "colab": {
          "base_uri": "https://localhost:8080/"
        },
        "id": "r09pjEuL-cn1",
        "outputId": "c082edeb-0f11-453c-af39-e8d257a35063"
      },
      "execution_count": 65,
      "outputs": [
        {
          "output_type": "stream",
          "name": "stdout",
          "text": [
            "Enter number of rows for Matrix 1: 2\n",
            "Enter number of columns for Matrix 1: 1\n",
            "Enter number of rows for Matrix 2: 1\n",
            "Enter number of columns for Matrix 2: 1\n",
            "Enter values for Matrix 1:\n",
            "Enter row 1 (space separated values): 1\n",
            "Enter row 2 (space separated values): 1\n",
            "Enter values for Matrix 2:\n",
            "Enter row 1 (space separated values): 1\n",
            "\n",
            "Matrix 1 * Matrix 2:\n",
            "1\n",
            "1\n"
          ]
        }
      ]
    },
    {
      "cell_type": "code",
      "source": [
        "# Question 35: Build a program that simulates a basic text-based tic-tac-toe game against the computer.\n",
        "\n",
        "import random\n",
        "\n",
        "# Function to print the board\n",
        "def print_board(board):\n",
        "    print(\"\\n\")\n",
        "    for i in range(3):\n",
        "        print(\" | \".join(board[i]))\n",
        "        if i < 2:\n",
        "            print(\"---------\")\n",
        "    print(\"\\n\")\n",
        "\n",
        "# Check for a winner\n",
        "def check_winner(board, player):\n",
        "    # Check rows, columns and diagonals\n",
        "    for i in range(3):\n",
        "        if all([board[i][j] == player for j in range(3)]) or all([board[j][i] == player for j in range(3)]):\n",
        "            return True\n",
        "    if board[0][0] == player and board[1][1] == player and board[2][2] == player:\n",
        "        return True\n",
        "    if board[0][2] == player and board[1][1] == player and board[2][0] == player:\n",
        "        return True\n",
        "    return False\n",
        "\n",
        "# Check if the board is full\n",
        "def is_full(board):\n",
        "    return all([cell != \" \" for row in board for cell in row])\n",
        "\n",
        "# Main Game Loop\n",
        "def tic_tac_toe():\n",
        "    board = [[\" \" for _ in range(3)] for _ in range(3)]\n",
        "    players = [\"X\", \"O\"]\n",
        "    current_player = 0\n",
        "\n",
        "    while True:\n",
        "        print_board(board)\n",
        "\n",
        "        if current_player == 0:  # Human turn\n",
        "            move = int(input(f\"Player {players[current_player]}: Enter your move (1-9): \")) - 1\n",
        "            row, col = divmod(move, 3)\n",
        "        else:  # Computer turn\n",
        "            move = random.choice([i for i, cell in enumerate([cell for row in board for cell in row]) if cell == \" \"])\n",
        "            row, col = divmod(move, 3)\n",
        "\n",
        "        if board[row][col] == \" \":\n",
        "            board[row][col] = players[current_player]\n",
        "        else:\n",
        "            print(\"Invalid move, try again!\")\n",
        "            continue\n",
        "\n",
        "        if check_winner(board, players[current_player]):\n",
        "            print_board(board)\n",
        "            print(f\"Player {players[current_player]} wins!\")\n",
        "            break\n",
        "\n",
        "        if is_full(board):\n",
        "            print_board(board)\n",
        "            print(\"It's a tie!\")\n",
        "            break\n",
        "\n",
        "        current_player = 1 - current_player\n",
        "\n",
        "tic_tac_toe()\n"
      ],
      "metadata": {
        "colab": {
          "base_uri": "https://localhost:8080/"
        },
        "id": "fN9PExQb-cuK",
        "outputId": "e01370d8-bb73-4294-c099-e5566f6e678b"
      },
      "execution_count": 66,
      "outputs": [
        {
          "output_type": "stream",
          "name": "stdout",
          "text": [
            "\n",
            "\n",
            "  |   |  \n",
            "---------\n",
            "  |   |  \n",
            "---------\n",
            "  |   |  \n",
            "\n",
            "\n",
            "Player X: Enter your move (1-9): 5\n",
            "\n",
            "\n",
            "  |   |  \n",
            "---------\n",
            "  | X |  \n",
            "---------\n",
            "  |   |  \n",
            "\n",
            "\n",
            "\n",
            "\n",
            "  |   |  \n",
            "---------\n",
            "  | X |  \n",
            "---------\n",
            "  | O |  \n",
            "\n",
            "\n",
            "Player X: Enter your move (1-9): 4\n",
            "\n",
            "\n",
            "  |   |  \n",
            "---------\n",
            "X | X |  \n",
            "---------\n",
            "  | O |  \n",
            "\n",
            "\n",
            "\n",
            "\n",
            "  |   |  \n",
            "---------\n",
            "X | X | O\n",
            "---------\n",
            "  | O |  \n",
            "\n",
            "\n",
            "Player X: Enter your move (1-9): 1\n",
            "\n",
            "\n",
            "X |   |  \n",
            "---------\n",
            "X | X | O\n",
            "---------\n",
            "  | O |  \n",
            "\n",
            "\n",
            "\n",
            "\n",
            "X |   |  \n",
            "---------\n",
            "X | X | O\n",
            "---------\n",
            "  | O | O\n",
            "\n",
            "\n",
            "Player X: Enter your move (1-9): 7\n",
            "\n",
            "\n",
            "X |   |  \n",
            "---------\n",
            "X | X | O\n",
            "---------\n",
            "X | O | O\n",
            "\n",
            "\n",
            "Player X wins!\n"
          ]
        }
      ]
    },
    {
      "cell_type": "code",
      "source": [
        "# Question 36: Write a program that generates Fibonacci numbers up to a specified term using iterative methods.\n",
        "\n",
        "def fibonacci(n):\n",
        "    fib_sequence = [0, 1]\n",
        "    for i in range(2, n):\n",
        "        fib_sequence.append(fib_sequence[-1] + fib_sequence[-2])\n",
        "    return fib_sequence\n",
        "\n",
        "n = int(input(\"Enter the number of terms in the Fibonacci sequence: \"))\n",
        "fib_sequence = fibonacci(n)\n",
        "print(\"Fibonacci Sequence:\", fib_sequence)\n"
      ],
      "metadata": {
        "colab": {
          "base_uri": "https://localhost:8080/"
        },
        "id": "o9F_46Qt-c0i",
        "outputId": "d5a8f972-3c41-4198-8cb5-db00fce160d1"
      },
      "execution_count": 67,
      "outputs": [
        {
          "output_type": "stream",
          "name": "stdout",
          "text": [
            "Enter the number of terms in the Fibonacci sequence: 2\n",
            "Fibonacci Sequence: [0, 1]\n"
          ]
        }
      ]
    },
    {
      "cell_type": "code",
      "source": [
        "# Question 37: Develop a program that calculates the nth term of the Fibonacci sequence using memoization.\n",
        "\n",
        "memo = {0: 0, 1: 1}\n",
        "\n",
        "def fibonacci(n):\n",
        "    if n not in memo:\n",
        "        memo[n] = fibonacci(n-1) + fibonacci(n-2)\n",
        "    return memo[n]\n",
        "\n",
        "n = int(input(\"Enter the term number in Fibonacci sequence: \"))\n",
        "print(f\"The {n}th Fibonacci number is {fibonacci(n)}\")\n"
      ],
      "metadata": {
        "colab": {
          "base_uri": "https://localhost:8080/"
        },
        "id": "Lb4Li_7U-c6U",
        "outputId": "90e93e6e-db89-4a7e-fd17-a40e2dda9e77"
      },
      "execution_count": 68,
      "outputs": [
        {
          "output_type": "stream",
          "name": "stdout",
          "text": [
            "Enter the term number in Fibonacci sequence: 3\n",
            "The 3th Fibonacci number is 2\n"
          ]
        }
      ]
    },
    {
      "cell_type": "code",
      "source": [
        "# Question 38: Create a program that generates a calendar for a given month and year using conditional statements.\n",
        "\n",
        "import calendar\n",
        "\n",
        "def print_calendar(month, year):\n",
        "    print(calendar.month(year, month))\n",
        "\n",
        "month = int(input(\"Enter the month (1-12): \"))\n",
        "year = int(input(\"Enter the year: \"))\n",
        "\n",
        "print_calendar(month, year)\n"
      ],
      "metadata": {
        "colab": {
          "base_uri": "https://localhost:8080/"
        },
        "id": "HpyCv01G-c_m",
        "outputId": "42eea18c-2091-4d24-9a8f-19d93bea1d41"
      },
      "execution_count": 69,
      "outputs": [
        {
          "output_type": "stream",
          "name": "stdout",
          "text": [
            "Enter the month (1-12): 1\n",
            "Enter the year: 1994\n",
            "    January 1994\n",
            "Mo Tu We Th Fr Sa Su\n",
            "                1  2\n",
            " 3  4  5  6  7  8  9\n",
            "10 11 12 13 14 15 16\n",
            "17 18 19 20 21 22 23\n",
            "24 25 26 27 28 29 30\n",
            "31\n",
            "\n"
          ]
        }
      ]
    },
    {
      "cell_type": "code",
      "source": [
        "# Question 39: Build a program that simulates a basic text-based blackjack game against the computer.\n",
        "\n",
        "import random\n",
        "\n",
        "# Define the card deck\n",
        "cards = ['2', '3', '4', '5', '6', '7', '8', '9', '10', 'J', 'Q', 'K', 'A']\n",
        "values = {'2': 2, '3': 3, '4': 4, '5': 5, '6': 6, '7': 7, '8': 8, '9': 9, '10': 10, 'J': 10, 'Q': 10, 'K': 10, 'A': 11}\n",
        "\n",
        "# Function to calculate hand value\n",
        "def calculate_hand(hand):\n",
        "    value = sum(values[card] for card in hand)\n",
        "    # Handle the case where Ace is used as 1 (if value exceeds 21)\n",
        "    if value > 21 and 'A' in hand:\n",
        "        value -= 10\n",
        "    return value\n",
        "\n",
        "# Function to play blackjack\n",
        "def blackjack():\n",
        "    player_hand = [random.choice(cards), random.choice(cards)]\n",
        "    dealer_hand = [random.choice(cards), random.choice(cards)]\n",
        "\n",
        "    print(\"Your hand:\", player_hand)\n",
        "    print(\"Dealer's hand:\", [dealer_hand[0], '?'])\n",
        "\n",
        "    while calculate_hand(player_hand) < 21:\n",
        "        move = input(\"Do you want to 'hit' or 'stand'? \").lower()\n",
        "        if move == 'hit':\n",
        "            player_hand.append(random.choice(cards))\n",
        "            print(\"Your hand:\", player_hand)\n",
        "        elif move == 'stand':\n",
        "            break\n",
        "        else:\n",
        "            print(\"Invalid move. Please choose 'hit' or 'stand'.\")\n",
        "\n",
        "    # Dealer's turn\n",
        "    while calculate_hand(dealer_hand) < 17:\n",
        "        dealer_hand.append(random.choice(cards))\n",
        "\n",
        "    print(\"Dealer's hand:\", dealer_hand)\n",
        "    player_value = calculate_hand(player_hand)\n",
        "    dealer_value = calculate_hand(dealer_hand)\n",
        "\n",
        "    print(f\"Your final value: {player_value}\")\n",
        "    print(f\"Dealer's final value: {dealer_value}\")\n",
        "\n",
        "    if player_value > 21:\n",
        "        print(\"You busted! Dealer wins.\")\n",
        "    elif dealer_value > 21 or player_value > dealer_value:\n",
        "        print(\"You win!\")\n",
        "    elif player_value < dealer_value:\n",
        "        print(\"Dealer wins.\")\n",
        "    else:\n",
        "        print(\"It's a tie!\")\n",
        "\n",
        "# Run the game\n",
        "blackjack()\n"
      ],
      "metadata": {
        "colab": {
          "base_uri": "https://localhost:8080/"
        },
        "id": "ko5tILLU-dEy",
        "outputId": "420dad6a-f5dd-44a3-f700-99fe9eba35d0"
      },
      "execution_count": 70,
      "outputs": [
        {
          "output_type": "stream",
          "name": "stdout",
          "text": [
            "Your hand: ['5', 'A']\n",
            "Dealer's hand: ['6', '?']\n",
            "Do you want to 'hit' or 'stand'? hit\n",
            "Your hand: ['5', 'A', 'K']\n",
            "Do you want to 'hit' or 'stand'? stand\n",
            "Dealer's hand: ['6', '4', 'J']\n",
            "Your final value: 16\n",
            "Dealer's final value: 20\n",
            "Dealer wins.\n"
          ]
        }
      ]
    },
    {
      "cell_type": "code",
      "source": [
        "# Question 40: Write a program that generates the prime factors of a given number using trial division.\n",
        "\n",
        "def prime_factors(n):\n",
        "    factors = []\n",
        "    # Check for number of 2s that divide n\n",
        "    while n % 2 == 0:\n",
        "        factors.append(2)\n",
        "        n //= 2\n",
        "\n",
        "    # Check for odd factors from 3 up to sqrt(n)\n",
        "    for i in range(3, int(n**0.5) + 1, 2):\n",
        "        while n % i == 0:\n",
        "            factors.append(i)\n",
        "            n //= i\n",
        "\n",
        "    # If n is a prime number greater than 2\n",
        "    if n > 2:\n",
        "        factors.append(n)\n",
        "\n",
        "    return factors\n",
        "\n",
        "# Input the number for prime factorization\n",
        "num = int(input(\"Enter a number to find its prime factors: \"))\n",
        "factors = prime_factors(num)\n",
        "print(f\"The prime factors of {num} are: {factors}\")\n"
      ],
      "metadata": {
        "colab": {
          "base_uri": "https://localhost:8080/"
        },
        "id": "endRzy6K-dKw",
        "outputId": "5e95167e-f87b-46ce-d4e6-65dd6e3f1e8e"
      },
      "execution_count": 71,
      "outputs": [
        {
          "output_type": "stream",
          "name": "stdout",
          "text": [
            "Enter a number to find its prime factors: 10\n",
            "The prime factors of 10 are: [2, 5]\n"
          ]
        }
      ]
    }
  ]
}