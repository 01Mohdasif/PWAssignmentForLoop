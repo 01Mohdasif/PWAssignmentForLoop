{
  "nbformat": 4,
  "nbformat_minor": 0,
  "metadata": {
    "colab": {
      "provenance": []
    },
    "kernelspec": {
      "name": "python3",
      "display_name": "Python 3"
    },
    "language_info": {
      "name": "python"
    }
  },
  "cells": [
    {
      "cell_type": "code",
      "execution_count": 2,
      "metadata": {
        "colab": {
          "base_uri": "https://localhost:8080/"
        },
        "id": "aYWJiJ0NzmiV",
        "outputId": "e97d8913-ec32-4862-ed1f-47b055fe5503"
      },
      "outputs": [
        {
          "output_type": "stream",
          "name": "stdout",
          "text": [
            "Task 1: Print numbers from 1 to 10\n",
            "1\n",
            "2\n",
            "3\n",
            "4\n",
            "5\n",
            "6\n",
            "7\n",
            "8\n",
            "9\n",
            "10\n",
            "\n",
            "\n"
          ]
        }
      ],
      "source": [
        "# Write a Python program to print the numbers from 1 to 10 using a `for` loop.\n",
        "print(\"Task 1: Print numbers from 1 to 10\")\n",
        "for i in range(1, 11):\n",
        "    print(i)\n",
        "print(\"\\n\")\n"
      ]
    },
    {
      "cell_type": "code",
      "source": [
        "# Task 2: Create a program that calculates the sum of all numbers in a list using a `for` loop.\n",
        "print(\"Task 2: Sum of numbers in a list\")\n",
        "numbers = [1, 2, 3, 4, 5]\n",
        "total_sum = 0\n",
        "for num in numbers:\n",
        "    total_sum += num\n",
        "print(\"Sum of numbers:\", total_sum)\n",
        "print(\"\\n\")\n"
      ],
      "metadata": {
        "colab": {
          "base_uri": "https://localhost:8080/"
        },
        "id": "0JsFJSl0zu2T",
        "outputId": "cba20752-eb74-4101-9c1a-793f7d74db9f"
      },
      "execution_count": 3,
      "outputs": [
        {
          "output_type": "stream",
          "name": "stdout",
          "text": [
            "Task 2: Sum of numbers in a list\n",
            "Sum of numbers: 15\n",
            "\n",
            "\n"
          ]
        }
      ]
    },
    {
      "cell_type": "code",
      "source": [
        "# Task 3: Write a program to print the characters of a string in reverse order using a `for` loop.\n",
        "print(\"Task 3: Print characters of string in reverse order\")\n",
        "text = \"Hello\"\n",
        "for char in reversed(text):\n",
        "    print(char, end=\"\")\n",
        "print(\"\\n\")\n"
      ],
      "metadata": {
        "colab": {
          "base_uri": "https://localhost:8080/"
        },
        "id": "sDGXzHE0zxgV",
        "outputId": "529eda84-9132-49f5-85c2-da7f5b7508f6"
      },
      "execution_count": 4,
      "outputs": [
        {
          "output_type": "stream",
          "name": "stdout",
          "text": [
            "Task 3: Print characters of string in reverse order\n",
            "olleH\n",
            "\n"
          ]
        }
      ]
    },
    {
      "cell_type": "code",
      "source": [
        "# Task 4: Develop a program that finds the factorial of a given number using a `for` loop.\n",
        "print(\"Task 4: Find factorial of a number\")\n",
        "n = 5\n",
        "factorial = 1\n",
        "for i in range(1, n + 1):\n",
        "    factorial *= i\n",
        "print(\"\\nFactorial of\", n, \"is\", factorial)\n",
        "print(\"\\n\")\n"
      ],
      "metadata": {
        "colab": {
          "base_uri": "https://localhost:8080/"
        },
        "id": "iWfG8G5VzznO",
        "outputId": "3b6c2782-a7bb-48d9-f018-394b2484d449"
      },
      "execution_count": 5,
      "outputs": [
        {
          "output_type": "stream",
          "name": "stdout",
          "text": [
            "Task 4: Find factorial of a number\n",
            "\n",
            "Factorial of 5 is 120\n",
            "\n",
            "\n"
          ]
        }
      ]
    },
    {
      "cell_type": "code",
      "source": [
        "# Task 5: Create a program to print the multiplication table of a given number using a `for` loop.\n",
        "print(\"Task 5: Multiplication table of a number\")\n",
        "num = 7\n",
        "for i in range(1, 11):\n",
        "    print(f\"{num} x {i} = {num * i}\")\n",
        "print(\"\\n\")\n"
      ],
      "metadata": {
        "colab": {
          "base_uri": "https://localhost:8080/"
        },
        "id": "v4-eeeq2z1dz",
        "outputId": "9975d2bf-0c44-4fd2-9268-67cd0d2fd5a2"
      },
      "execution_count": 6,
      "outputs": [
        {
          "output_type": "stream",
          "name": "stdout",
          "text": [
            "Task 5: Multiplication table of a number\n",
            "7 x 1 = 7\n",
            "7 x 2 = 14\n",
            "7 x 3 = 21\n",
            "7 x 4 = 28\n",
            "7 x 5 = 35\n",
            "7 x 6 = 42\n",
            "7 x 7 = 49\n",
            "7 x 8 = 56\n",
            "7 x 9 = 63\n",
            "7 x 10 = 70\n",
            "\n",
            "\n"
          ]
        }
      ]
    },
    {
      "cell_type": "code",
      "source": [
        "# Task 6: Write a program that counts the number of even and odd numbers in a list using a `for` loop.\n",
        "print(\"Task 6: Count even and odd numbers in a list\")\n",
        "numbers = [1, 2, 3, 4, 5, 6, 7, 8, 9, 10]\n",
        "even_count = 0\n",
        "odd_count = 0\n",
        "for num in numbers:\n",
        "    if num % 2 == 0:\n",
        "        even_count += 1\n",
        "    else:\n",
        "        odd_count += 1\n",
        "print(f\"Even numbers: {even_count}, Odd numbers: {odd_count}\")\n",
        "print(\"\\n\")\n"
      ],
      "metadata": {
        "colab": {
          "base_uri": "https://localhost:8080/"
        },
        "id": "wxRO7f2dz3i0",
        "outputId": "8d45f594-7a0a-4449-bc48-e1ede4b6a6c8"
      },
      "execution_count": 7,
      "outputs": [
        {
          "output_type": "stream",
          "name": "stdout",
          "text": [
            "Task 6: Count even and odd numbers in a list\n",
            "Even numbers: 5, Odd numbers: 5\n",
            "\n",
            "\n"
          ]
        }
      ]
    },
    {
      "cell_type": "code",
      "source": [
        "# Task 7: Develop a program that prints the squares of numbers from 1 to 5 using a `for` loop.\n",
        "print(\"Task 7: Print squares of numbers from 1 to 5\")\n",
        "for i in range(1, 6):\n",
        "    print(f\"Square of {i} is {i ** 2}\")\n",
        "print(\"\\n\")\n"
      ],
      "metadata": {
        "colab": {
          "base_uri": "https://localhost:8080/"
        },
        "id": "_GwLW6I6z33g",
        "outputId": "19fabae2-54ae-41ff-b052-999c123234d4"
      },
      "execution_count": 8,
      "outputs": [
        {
          "output_type": "stream",
          "name": "stdout",
          "text": [
            "Task 7: Print squares of numbers from 1 to 5\n",
            "Square of 1 is 1\n",
            "Square of 2 is 4\n",
            "Square of 3 is 9\n",
            "Square of 4 is 16\n",
            "Square of 5 is 25\n",
            "\n",
            "\n"
          ]
        }
      ]
    },
    {
      "cell_type": "code",
      "source": [
        "# Task 8: Create a program to find the length of a string without using the `len()` function.\n",
        "print(\"Task 8: Find the length of a string without using len()\")\n",
        "text = \"Hello\"\n",
        "length = 0\n",
        "for char in text:\n",
        "    length += 1\n",
        "print(f\"Length of string '{text}' is {length}\")\n",
        "print(\"\\n\")\n"
      ],
      "metadata": {
        "colab": {
          "base_uri": "https://localhost:8080/"
        },
        "id": "kfMgO37Zz3_6",
        "outputId": "9a3e5d39-6e1c-4be3-a9e5-3e26dfc48eb9"
      },
      "execution_count": 9,
      "outputs": [
        {
          "output_type": "stream",
          "name": "stdout",
          "text": [
            "Task 8: Find the length of a string without using len()\n",
            "Length of string 'Hello' is 5\n",
            "\n",
            "\n"
          ]
        }
      ]
    },
    {
      "cell_type": "code",
      "source": [
        "# Task 9: Write a program that calculates the average of a list of numbers using a `for` loop.\n",
        "print(\"Task 9: Calculate the average of numbers in a list\")\n",
        "numbers = [1, 2, 3, 4, 5]\n",
        "total_sum = 0\n",
        "for num in numbers:\n",
        "    total_sum += num\n",
        "average = total_sum / len(numbers)\n",
        "print(\"Average:\", average)\n",
        "print(\"\\n\")\n"
      ],
      "metadata": {
        "colab": {
          "base_uri": "https://localhost:8080/"
        },
        "id": "6EhPzDclz4Ha",
        "outputId": "37b8db30-d2de-49e6-8bfd-5eb3072aa97c"
      },
      "execution_count": 10,
      "outputs": [
        {
          "output_type": "stream",
          "name": "stdout",
          "text": [
            "Task 9: Calculate the average of numbers in a list\n",
            "Average: 3.0\n",
            "\n",
            "\n"
          ]
        }
      ]
    },
    {
      "cell_type": "code",
      "source": [
        "# Task 10: Develop a program that prints the first `n` Fibonacci numbers using a `for` loop.\n",
        "print(\"Task 10: Print the first n Fibonacci numbers\")\n",
        "n = 10\n",
        "a, b = 0, 1\n",
        "for _ in range(n):\n",
        "    print(a, end=\" \")\n",
        "    a, b = b, a + b\n",
        "print(\"\\n\")\n"
      ],
      "metadata": {
        "colab": {
          "base_uri": "https://localhost:8080/"
        },
        "id": "-1vfHYvYz4Na",
        "outputId": "82ec4763-0b02-47d1-f213-8f5a5f180b62"
      },
      "execution_count": 11,
      "outputs": [
        {
          "output_type": "stream",
          "name": "stdout",
          "text": [
            "Task 10: Print the first n Fibonacci numbers\n",
            "0 1 1 2 3 5 8 13 21 34 \n",
            "\n"
          ]
        }
      ]
    },
    {
      "cell_type": "code",
      "source": [
        "# Task 11: Write a program to check if a given list contains any duplicates using a `for` loop.\n",
        "print(\"Task 11: Check if the list contains duplicates\")\n",
        "numbers = [1, 2, 3, 4, 5, 6, 2]\n",
        "seen = set()\n",
        "for num in numbers:\n",
        "    if num in seen:\n",
        "        print(\"Duplicates found!\")\n",
        "        break\n",
        "    seen.add(num)\n",
        "else:\n",
        "    print(\"No duplicates found.\")\n",
        "print(\"\\n\")\n"
      ],
      "metadata": {
        "colab": {
          "base_uri": "https://localhost:8080/"
        },
        "id": "QOtVFfrJz4Us",
        "outputId": "449928e8-f899-4d6a-8908-7700848986a1"
      },
      "execution_count": 12,
      "outputs": [
        {
          "output_type": "stream",
          "name": "stdout",
          "text": [
            "Task 11: Check if the list contains duplicates\n",
            "Duplicates found!\n",
            "\n",
            "\n"
          ]
        }
      ]
    },
    {
      "cell_type": "code",
      "source": [
        "# Task 12: Create a program that prints the prime numbers in a given range using a `for` loop.\n",
        "print(\"Task 12: Print prime numbers in a given range\")\n",
        "start, end = 1, 20\n",
        "for num in range(start, end + 1):\n",
        "    if num > 1:\n",
        "        for i in range(2, num):\n",
        "            if num % i == 0:\n",
        "                break\n",
        "        else:\n",
        "            print(num, end=\" \")\n",
        "print(\"\\n\")\n"
      ],
      "metadata": {
        "colab": {
          "base_uri": "https://localhost:8080/"
        },
        "id": "MvqAlwGN0DFJ",
        "outputId": "8f8c0f1f-3008-4a19-a481-45693dd0c89c"
      },
      "execution_count": 13,
      "outputs": [
        {
          "output_type": "stream",
          "name": "stdout",
          "text": [
            "Task 12: Print prime numbers in a given range\n",
            "2 3 5 7 11 13 17 19 \n",
            "\n"
          ]
        }
      ]
    },
    {
      "cell_type": "code",
      "source": [
        "# Task 13: Develop a program that counts the number of vowels in a string using a `for` loop.\n",
        "print(\"Task 13: Count number of vowels in a string\")\n",
        "text = \"Hello World\"\n",
        "vowels = \"aeiou\"\n",
        "vowel_count = 0\n",
        "for char in text:\n",
        "    if char.lower() in vowels:\n",
        "        vowel_count += 1\n",
        "print(f\"Number of vowels: {vowel_count}\")\n",
        "print(\"\\n\")\n"
      ],
      "metadata": {
        "colab": {
          "base_uri": "https://localhost:8080/"
        },
        "id": "nYg2U_Kn0DIC",
        "outputId": "7e87c964-8f1d-4d5a-8ce7-7a075e30bba4"
      },
      "execution_count": 14,
      "outputs": [
        {
          "output_type": "stream",
          "name": "stdout",
          "text": [
            "Task 13: Count number of vowels in a string\n",
            "Number of vowels: 3\n",
            "\n",
            "\n"
          ]
        }
      ]
    },
    {
      "cell_type": "code",
      "source": [
        "# Task 14: Write a program to find the maximum element in a 2D list using a nested `for` loop.\n",
        "print(\"Task 14: Find maximum element in a 2D list\")\n",
        "matrix = [[1, 2, 3], [4, 5, 6], [7, 8, 9]]\n",
        "max_value = matrix[0][0]\n",
        "for row in matrix:\n",
        "    for num in row:\n",
        "        if num > max_value:\n",
        "            max_value = num\n",
        "print(f\"Maximum element in the matrix is {max_value}\")\n",
        "print(\"\\n\")\n"
      ],
      "metadata": {
        "colab": {
          "base_uri": "https://localhost:8080/"
        },
        "id": "2yJEF5tG0DLU",
        "outputId": "ff9777b4-af24-4678-c4e7-6b05b27092b5"
      },
      "execution_count": 15,
      "outputs": [
        {
          "output_type": "stream",
          "name": "stdout",
          "text": [
            "Task 14: Find maximum element in a 2D list\n",
            "Maximum element in the matrix is 9\n",
            "\n",
            "\n"
          ]
        }
      ]
    },
    {
      "cell_type": "code",
      "source": [
        "# Task 15: Create a program that removes all occurrences of a specific element from a list using a `for` loop.\n",
        "print(\"Task 15: Remove all occurrences of a specific element\")\n",
        "numbers = [1, 2, 3, 4, 2, 5, 2]\n",
        "element_to_remove = 2\n",
        "new_list = []\n",
        "for num in numbers:\n",
        "    if num != element_to_remove:\n",
        "        new_list.append(num)\n",
        "print(f\"List after removing {element_to_remove}: {new_list}\")\n",
        "print(\"\\n\")\n"
      ],
      "metadata": {
        "colab": {
          "base_uri": "https://localhost:8080/"
        },
        "id": "v2Q5Uuhr0Lx_",
        "outputId": "ec35d46a-b953-43e0-f272-e19ad232b211"
      },
      "execution_count": 16,
      "outputs": [
        {
          "output_type": "stream",
          "name": "stdout",
          "text": [
            "Task 15: Remove all occurrences of a specific element\n",
            "List after removing 2: [1, 3, 4, 5]\n",
            "\n",
            "\n"
          ]
        }
      ]
    },
    {
      "cell_type": "code",
      "source": [
        "# Task 16: Develop a program that generates a multiplication table for numbers from 1 to 5 using a nested `for` loop.\n",
        "print(\"Task 16: Generate multiplication table for numbers from 1 to 5\")\n",
        "for i in range(1, 6):\n",
        "    for j in range(1, 11):\n",
        "        print(f\"{i} x {j} = {i * j}\")\n",
        "    print(\"----\")\n",
        "print(\"\\n\")\n"
      ],
      "metadata": {
        "colab": {
          "base_uri": "https://localhost:8080/"
        },
        "id": "hZ5R2ZIr0L5g",
        "outputId": "6b301b50-0774-45c4-dee0-dbaecee8dcf3"
      },
      "execution_count": 17,
      "outputs": [
        {
          "output_type": "stream",
          "name": "stdout",
          "text": [
            "Task 16: Generate multiplication table for numbers from 1 to 5\n",
            "1 x 1 = 1\n",
            "1 x 2 = 2\n",
            "1 x 3 = 3\n",
            "1 x 4 = 4\n",
            "1 x 5 = 5\n",
            "1 x 6 = 6\n",
            "1 x 7 = 7\n",
            "1 x 8 = 8\n",
            "1 x 9 = 9\n",
            "1 x 10 = 10\n",
            "----\n",
            "2 x 1 = 2\n",
            "2 x 2 = 4\n",
            "2 x 3 = 6\n",
            "2 x 4 = 8\n",
            "2 x 5 = 10\n",
            "2 x 6 = 12\n",
            "2 x 7 = 14\n",
            "2 x 8 = 16\n",
            "2 x 9 = 18\n",
            "2 x 10 = 20\n",
            "----\n",
            "3 x 1 = 3\n",
            "3 x 2 = 6\n",
            "3 x 3 = 9\n",
            "3 x 4 = 12\n",
            "3 x 5 = 15\n",
            "3 x 6 = 18\n",
            "3 x 7 = 21\n",
            "3 x 8 = 24\n",
            "3 x 9 = 27\n",
            "3 x 10 = 30\n",
            "----\n",
            "4 x 1 = 4\n",
            "4 x 2 = 8\n",
            "4 x 3 = 12\n",
            "4 x 4 = 16\n",
            "4 x 5 = 20\n",
            "4 x 6 = 24\n",
            "4 x 7 = 28\n",
            "4 x 8 = 32\n",
            "4 x 9 = 36\n",
            "4 x 10 = 40\n",
            "----\n",
            "5 x 1 = 5\n",
            "5 x 2 = 10\n",
            "5 x 3 = 15\n",
            "5 x 4 = 20\n",
            "5 x 5 = 25\n",
            "5 x 6 = 30\n",
            "5 x 7 = 35\n",
            "5 x 8 = 40\n",
            "5 x 9 = 45\n",
            "5 x 10 = 50\n",
            "----\n",
            "\n",
            "\n"
          ]
        }
      ]
    },
    {
      "cell_type": "code",
      "source": [
        "# Task 17: Write a program that converts a list of Fahrenheit temperatures to Celsius using a `for` loop.\n",
        "print(\"Task 17: Convert Fahrenheit temperatures to Celsius\")\n",
        "fahrenheit = [32, 68, 77, 104]\n",
        "celsius = [(temp - 32) * 5 / 9 for temp in fahrenheit]\n",
        "print(f\"Celsius temperatures: {celsius}\")\n",
        "print(\"\\n\")\n"
      ],
      "metadata": {
        "colab": {
          "base_uri": "https://localhost:8080/"
        },
        "id": "BkCAU3it0MBv",
        "outputId": "d25a4822-5442-4637-9da0-34aa9eb31999"
      },
      "execution_count": 18,
      "outputs": [
        {
          "output_type": "stream",
          "name": "stdout",
          "text": [
            "Task 17: Convert Fahrenheit temperatures to Celsius\n",
            "Celsius temperatures: [0.0, 20.0, 25.0, 40.0]\n",
            "\n",
            "\n"
          ]
        }
      ]
    },
    {
      "cell_type": "code",
      "source": [
        "# Task 18: Create a program to print the common elements from two lists using a `for` loop.\n",
        "print(\"Task 18: Print common elements from two lists\")\n",
        "list1 = [1, 2, 3, 4, 5]\n",
        "list2 = [4, 5, 6, 7, 8]\n",
        "common_elements = []\n",
        "for num in list1:\n",
        "    if num in list2:\n",
        "        common_elements.append(num)\n",
        "print(f\"Common elements: {common_elements}\")\n",
        "print(\"\\n\")\n"
      ],
      "metadata": {
        "colab": {
          "base_uri": "https://localhost:8080/"
        },
        "id": "jL4MslRx0MJF",
        "outputId": "baaab97c-c0e0-4992-e42f-a9c69a561a1e"
      },
      "execution_count": 19,
      "outputs": [
        {
          "output_type": "stream",
          "name": "stdout",
          "text": [
            "Task 18: Print common elements from two lists\n",
            "Common elements: [4, 5]\n",
            "\n",
            "\n"
          ]
        }
      ]
    },
    {
      "cell_type": "code",
      "source": [
        "# Task 19: Develop a program that prints the pattern of right-angled triangles using a `for` loop. Use ‘*’ to draw the pattern\n",
        "print(\"Task 19: Print pattern of right-angled triangle\")\n",
        "rows = 5\n",
        "for i in range(1, rows + 1):\n",
        "    print('*' * i)\n",
        "print(\"\\n\")\n"
      ],
      "metadata": {
        "colab": {
          "base_uri": "https://localhost:8080/"
        },
        "id": "InXKlvID0MQR",
        "outputId": "7d8df896-bc00-4bb7-c92c-2a128f0806ce"
      },
      "execution_count": 20,
      "outputs": [
        {
          "output_type": "stream",
          "name": "stdout",
          "text": [
            "Task 19: Print pattern of right-angled triangle\n",
            "*\n",
            "**\n",
            "***\n",
            "****\n",
            "*****\n",
            "\n",
            "\n"
          ]
        }
      ]
    },
    {
      "cell_type": "code",
      "source": [
        "# Task 20: Write a program to find the greatest common divisor (GCD) of two numbers using a `for` loop.\n",
        "print(\"Task 20: Find GCD of two numbers\")\n",
        "a, b = 56, 98\n",
        "gcd = 1\n",
        "for i in range(1, min(a, b) + 1):\n",
        "    if a % i == 0 and b % i == 0:\n",
        "        gcd = i\n",
        "print(f\"GCD of {a} and {b} is {gcd}\")\n",
        "print(\"\\n\")\n"
      ],
      "metadata": {
        "colab": {
          "base_uri": "https://localhost:8080/"
        },
        "id": "PhuzeSXT0MWw",
        "outputId": "f6492d95-09e6-4356-d3a7-1718246b18de"
      },
      "execution_count": 21,
      "outputs": [
        {
          "output_type": "stream",
          "name": "stdout",
          "text": [
            "Task 20: Find GCD of two numbers\n",
            "GCD of 56 and 98 is 14\n",
            "\n",
            "\n"
          ]
        }
      ]
    },
    {
      "cell_type": "code",
      "source": [
        "# Task 21: Create a program that calculates the sum of the digits of numbers in a list using a list comprehension.\n",
        "print(\"Task 21: Sum of digits of numbers in a list using list comprehension\")\n",
        "numbers = [123, 456, 789]\n",
        "sum_of_digits = [sum(int(digit) for digit in str(num)) for num in numbers]\n",
        "print(f\"Sum of digits for each number: {sum_of_digits}\")\n",
        "print(\"\\n\")\n"
      ],
      "metadata": {
        "colab": {
          "base_uri": "https://localhost:8080/"
        },
        "id": "8x9nhLUD1vO2",
        "outputId": "3f07b04a-fc8f-4753-cccb-46877fee682e"
      },
      "execution_count": 22,
      "outputs": [
        {
          "output_type": "stream",
          "name": "stdout",
          "text": [
            "Task 21: Sum of digits of numbers in a list using list comprehension\n",
            "Sum of digits for each number: [6, 15, 24]\n",
            "\n",
            "\n"
          ]
        }
      ]
    },
    {
      "cell_type": "code",
      "source": [
        "# Task 22: Write a program to find the prime factors of a given number using a `for` loop and list comprehension.\n",
        "print(\"Task 22: Prime factors of a given number using list comprehension\")\n",
        "number = 56\n",
        "prime_factors = [i for i in range(2, number + 1) if number % i == 0 and all(i % j != 0 for j in range(2, i))]\n",
        "print(f\"Prime factors of {number}: {prime_factors}\")\n",
        "print(\"\\n\")\n"
      ],
      "metadata": {
        "colab": {
          "base_uri": "https://localhost:8080/"
        },
        "id": "jlSdsDf21vXp",
        "outputId": "644473c6-129e-4cba-9e90-1796e03d03b9"
      },
      "execution_count": 23,
      "outputs": [
        {
          "output_type": "stream",
          "name": "stdout",
          "text": [
            "Task 22: Prime factors of a given number using list comprehension\n",
            "Prime factors of 56: [2, 7]\n",
            "\n",
            "\n"
          ]
        }
      ]
    },
    {
      "cell_type": "code",
      "source": [
        "# Task 23: Develop a program that extracts unique elements from a list and stores them in a new list using a list comprehension.\n",
        "print(\"Task 23: Unique elements from a list using list comprehension\")\n",
        "numbers = [1, 2, 2, 3, 4, 4, 5]\n",
        "unique_elements = list({num for num in numbers})\n",
        "print(f\"Unique elements: {unique_elements}\")\n",
        "print(\"\\n\")\n"
      ],
      "metadata": {
        "colab": {
          "base_uri": "https://localhost:8080/"
        },
        "id": "15uVCvaK1veW",
        "outputId": "6634141c-fc28-470c-ae39-2058d94d165e"
      },
      "execution_count": 24,
      "outputs": [
        {
          "output_type": "stream",
          "name": "stdout",
          "text": [
            "Task 23: Unique elements from a list using list comprehension\n",
            "Unique elements: [1, 2, 3, 4, 5]\n",
            "\n",
            "\n"
          ]
        }
      ]
    },
    {
      "cell_type": "code",
      "source": [
        "# Task 24: Create a program that generates a list of all palindromic numbers up to a specified limit using a list comprehension.\n",
        "print(\"Task 24: Palindromic numbers up to a limit using list comprehension\")\n",
        "limit = 100\n",
        "palindromic_numbers = [num for num in range(limit + 1) if str(num) == str(num)[::-1]]\n",
        "print(f\"Palindromic numbers up to {limit}: {palindromic_numbers}\")\n",
        "print(\"\\n\")\n"
      ],
      "metadata": {
        "colab": {
          "base_uri": "https://localhost:8080/"
        },
        "id": "7_Ac09xk1vke",
        "outputId": "40c24aac-41fa-4108-a21b-2c913b5ea02b"
      },
      "execution_count": 25,
      "outputs": [
        {
          "output_type": "stream",
          "name": "stdout",
          "text": [
            "Task 24: Palindromic numbers up to a limit using list comprehension\n",
            "Palindromic numbers up to 100: [0, 1, 2, 3, 4, 5, 6, 7, 8, 9, 11, 22, 33, 44, 55, 66, 77, 88, 99]\n",
            "\n",
            "\n"
          ]
        }
      ]
    },
    {
      "cell_type": "code",
      "source": [
        "# Task 25: Write a program to flatten a nested list using list comprehension.\n",
        "print(\"Task 25: Flatten a nested list using list comprehension\")\n",
        "nested_list = [[1, 2, 3], [4, 5], [6, 7]]\n",
        "flattened_list = [item for sublist in nested_list for item in sublist]\n",
        "print(f\"Flattened list: {flattened_list}\")\n",
        "print(\"\\n\")\n"
      ],
      "metadata": {
        "colab": {
          "base_uri": "https://localhost:8080/"
        },
        "id": "R7KQ0DkZ1vqN",
        "outputId": "75d3f2b8-cb86-4062-e5d7-01a4c9140161"
      },
      "execution_count": 26,
      "outputs": [
        {
          "output_type": "stream",
          "name": "stdout",
          "text": [
            "Task 25: Flatten a nested list using list comprehension\n",
            "Flattened list: [1, 2, 3, 4, 5, 6, 7]\n",
            "\n",
            "\n"
          ]
        }
      ]
    },
    {
      "cell_type": "code",
      "source": [
        "# Task 25: Write a program to flatten a nested list using list comprehension.\n",
        "print(\"Task 25: Flatten a nested list using list comprehension\")\n",
        "nested_list = [[1, 2, 3], [4, 5], [6, 7]]\n",
        "flattened_list = [item for sublist in nested_list for item in sublist]\n",
        "print(f\"Flattened list: {flattened_list}\")\n",
        "print(\"\\n\")\n"
      ],
      "metadata": {
        "colab": {
          "base_uri": "https://localhost:8080/"
        },
        "id": "aucwG7001vvp",
        "outputId": "6fc79f7f-9a91-4c67-8169-3abe28eb0e71"
      },
      "execution_count": 27,
      "outputs": [
        {
          "output_type": "stream",
          "name": "stdout",
          "text": [
            "Task 25: Flatten a nested list using list comprehension\n",
            "Flattened list: [1, 2, 3, 4, 5, 6, 7]\n",
            "\n",
            "\n"
          ]
        }
      ]
    },
    {
      "cell_type": "code",
      "source": [
        "# Task 26: Develop a program that computes the sum of even and odd numbers in a list separately using list comprehension.\n",
        "print(\"Task 26: Sum of even and odd numbers separately using list comprehension\")\n",
        "numbers = [1, 2, 3, 4, 5, 6]\n",
        "even_sum = sum([num for num in numbers if num % 2 == 0])\n",
        "odd_sum = sum([num for num in numbers if num % 2 != 0])\n",
        "print(f\"Sum of even numbers: {even_sum}, Sum of odd numbers: {odd_sum}\")\n",
        "print(\"\\n\")\n"
      ],
      "metadata": {
        "colab": {
          "base_uri": "https://localhost:8080/"
        },
        "id": "y4V6kyLn1v1g",
        "outputId": "bfdb494d-a3ec-44da-a804-188d6ea1f860"
      },
      "execution_count": 28,
      "outputs": [
        {
          "output_type": "stream",
          "name": "stdout",
          "text": [
            "Task 26: Sum of even and odd numbers separately using list comprehension\n",
            "Sum of even numbers: 12, Sum of odd numbers: 9\n",
            "\n",
            "\n"
          ]
        }
      ]
    },
    {
      "cell_type": "code",
      "source": [
        "# Task 27: Create a program that generates a list of squares of odd numbers between 1 and 10 using list comprehension.\n",
        "print(\"Task 27: Squares of odd numbers between 1 and 10 using list comprehension\")\n",
        "odd_squares = [num ** 2 for num in range(1, 11) if num % 2 != 0]\n",
        "print(f\"Squares of odd numbers: {odd_squares}\")\n",
        "print(\"\\n\")\n"
      ],
      "metadata": {
        "colab": {
          "base_uri": "https://localhost:8080/"
        },
        "id": "jG8-W_wG1v6q",
        "outputId": "8e31523a-76e7-4bcf-8276-6618ec951d9b"
      },
      "execution_count": 29,
      "outputs": [
        {
          "output_type": "stream",
          "name": "stdout",
          "text": [
            "Task 27: Squares of odd numbers between 1 and 10 using list comprehension\n",
            "Squares of odd numbers: [1, 9, 25, 49, 81]\n",
            "\n",
            "\n"
          ]
        }
      ]
    },
    {
      "cell_type": "code",
      "source": [
        "# Task 28: Write a program that combines two lists into a dictionary using list comprehension.\n",
        "print(\"Task 28: Combine two lists into a dictionary using list comprehension\")\n",
        "keys = ['a', 'b', 'c']\n",
        "values = [1, 2, 3]\n",
        "combined_dict = {keys[i]: values[i] for i in range(len(keys))}\n",
        "print(f\"Combined dictionary: {combined_dict}\")\n",
        "print(\"\\n\")\n"
      ],
      "metadata": {
        "colab": {
          "base_uri": "https://localhost:8080/"
        },
        "id": "_NsLq3Tz1v_V",
        "outputId": "593561aa-418d-4fc0-af87-84dd5a953fbe"
      },
      "execution_count": 30,
      "outputs": [
        {
          "output_type": "stream",
          "name": "stdout",
          "text": [
            "Task 28: Combine two lists into a dictionary using list comprehension\n",
            "Combined dictionary: {'a': 1, 'b': 2, 'c': 3}\n",
            "\n",
            "\n"
          ]
        }
      ]
    },
    {
      "cell_type": "code",
      "source": [
        "# Task 29: Develop a program that extracts the vowels from a string and stores them in a list using list comprehension.\n",
        "print(\"Task 29: Extract vowels from a string using list comprehension\")\n",
        "text = \"Hello World\"\n",
        "vowels = [char for char in text if char.lower() in 'aeiou']\n",
        "print(f\"Vowels in the string: {vowels}\")\n",
        "print(\"\\n\")\n"
      ],
      "metadata": {
        "colab": {
          "base_uri": "https://localhost:8080/"
        },
        "id": "fHp0eGgS1wEb",
        "outputId": "3db5d6bc-5de2-46de-b2b5-b1ab174cfe10"
      },
      "execution_count": 31,
      "outputs": [
        {
          "output_type": "stream",
          "name": "stdout",
          "text": [
            "Task 29: Extract vowels from a string using list comprehension\n",
            "Vowels in the string: ['e', 'o', 'o']\n",
            "\n",
            "\n"
          ]
        }
      ]
    },
    {
      "cell_type": "code",
      "source": [
        "# Task 30: Remove all non-numeric characters from a list of strings using list comprehension\n",
        "print(\"Task 30: Remove non-numeric characters from strings using list comprehension\")\n",
        "strings = [\"abc123\", \"456def\", \"78gh\"]\n",
        "numeric_strings = [''.join([char for char in string if char.isdigit()]) for string in strings]\n",
        "print(f\"Strings with only numeric characters: {numeric_strings}\")\n",
        "print(\"\\n\")\n"
      ],
      "metadata": {
        "colab": {
          "base_uri": "https://localhost:8080/"
        },
        "id": "xzZ4A5Bc1wKD",
        "outputId": "e6ffb721-ab5f-4915-a758-319966a97b21"
      },
      "execution_count": 32,
      "outputs": [
        {
          "output_type": "stream",
          "name": "stdout",
          "text": [
            "Task 30: Remove non-numeric characters from strings using list comprehension\n",
            "Strings with only numeric characters: ['123', '456', '78']\n",
            "\n",
            "\n"
          ]
        }
      ]
    },
    {
      "cell_type": "code",
      "source": [
        "# Task 31: Generate a list of prime numbers using the Sieve of Eratosthenes algorithm and list comprehension\n",
        "print(\"Task 31: Prime numbers using Sieve of Eratosthenes and list comprehension\")\n",
        "limit = 100\n",
        "sieve = [True] * (limit + 1)\n",
        "sieve[0], sieve[1] = False, False\n",
        "for i in range(2, int(limit**0.5) + 1):\n",
        "    if sieve[i]:\n",
        "        for j in range(i * i, limit + 1, i):\n",
        "            sieve[j] = False\n",
        "prime_numbers = [num for num, is_prime in enumerate(sieve) if is_prime]\n",
        "print(f\"Prime numbers up to {limit}: {prime_numbers}\")\n",
        "print(\"\\n\")\n"
      ],
      "metadata": {
        "colab": {
          "base_uri": "https://localhost:8080/"
        },
        "id": "NdAWVbQN1wPt",
        "outputId": "e7672f43-6add-46e8-e025-ddee40586218"
      },
      "execution_count": 33,
      "outputs": [
        {
          "output_type": "stream",
          "name": "stdout",
          "text": [
            "Task 31: Prime numbers using Sieve of Eratosthenes and list comprehension\n",
            "Prime numbers up to 100: [2, 3, 5, 7, 11, 13, 17, 19, 23, 29, 31, 37, 41, 43, 47, 53, 59, 61, 67, 71, 73, 79, 83, 89, 97]\n",
            "\n",
            "\n"
          ]
        }
      ]
    },
    {
      "cell_type": "code",
      "source": [
        "# Task 32: Generate a list of all Pythagorean triplets up to a specified limit using list comprehension\n",
        "print(\"Task 32: Pythagorean triplets up to a limit using list comprehension\")\n",
        "limit = 30\n",
        "pythagorean_triplets = [(a, b, c) for a in range(1, limit) for b in range(a, limit) for c in range(b, limit)\n",
        "                        if a**2 + b**2 == c**2]\n",
        "print(f\"Pythagorean triplets up to {limit}: {pythagorean_triplets}\")\n",
        "print(\"\\n\")\n"
      ],
      "metadata": {
        "colab": {
          "base_uri": "https://localhost:8080/"
        },
        "id": "L7_hZsWT1wVm",
        "outputId": "45151c03-e24a-4cff-a273-53afc5b39541"
      },
      "execution_count": 34,
      "outputs": [
        {
          "output_type": "stream",
          "name": "stdout",
          "text": [
            "Task 32: Pythagorean triplets up to a limit using list comprehension\n",
            "Pythagorean triplets up to 30: [(3, 4, 5), (5, 12, 13), (6, 8, 10), (7, 24, 25), (8, 15, 17), (9, 12, 15), (10, 24, 26), (12, 16, 20), (15, 20, 25), (20, 21, 29)]\n",
            "\n",
            "\n"
          ]
        }
      ]
    },
    {
      "cell_type": "code",
      "source": [
        "# Task 33: Generate a list of all possible combinations of two lists using list comprehension\n",
        "print(\"Task 33: All possible combinations of two lists using list comprehension\")\n",
        "list1 = [1, 2, 3]\n",
        "list2 = ['a', 'b', 'c']\n",
        "combinations = [(x, y) for x in list1 for y in list2]\n",
        "print(f\"All possible combinations: {combinations}\")\n",
        "print(\"\\n\")\n"
      ],
      "metadata": {
        "colab": {
          "base_uri": "https://localhost:8080/"
        },
        "id": "1hIu-vxg1wau",
        "outputId": "52b32ebe-0afb-44b2-a849-104834c19af9"
      },
      "execution_count": 35,
      "outputs": [
        {
          "output_type": "stream",
          "name": "stdout",
          "text": [
            "Task 33: All possible combinations of two lists using list comprehension\n",
            "All possible combinations: [(1, 'a'), (1, 'b'), (1, 'c'), (2, 'a'), (2, 'b'), (2, 'c'), (3, 'a'), (3, 'b'), (3, 'c')]\n",
            "\n",
            "\n"
          ]
        }
      ]
    },
    {
      "cell_type": "code",
      "source": [
        "# Task 34: Calculate mean, median, and mode of a list of numbers using list comprehension\n",
        "print(\"Task 34: Mean, median, and mode using list comprehension\")\n",
        "from collections import Counter\n",
        "numbers = [1, 2, 2, 3, 4]\n",
        "mean = sum(numbers) / len(numbers)\n",
        "sorted_numbers = sorted(numbers)\n",
        "median = sorted_numbers[len(numbers) // 2] if len(numbers) % 2 == 1 else (sorted_numbers[len(numbers)//2-1] + sorted_numbers[len(numbers)//2]) / 2\n",
        "mode = [item for item, count in Counter(numbers).items() if count == max(Counter(numbers).values())]\n",
        "print(f\"Mean: {mean}, Median: {median}, Mode: {mode}\")\n",
        "print(\"\\n\")\n"
      ],
      "metadata": {
        "colab": {
          "base_uri": "https://localhost:8080/"
        },
        "id": "icMWnZ0J1wgM",
        "outputId": "fb67af03-e001-4d5d-c2e2-28e1d4b78403"
      },
      "execution_count": 36,
      "outputs": [
        {
          "output_type": "stream",
          "name": "stdout",
          "text": [
            "Task 34: Mean, median, and mode using list comprehension\n",
            "Mean: 2.4, Median: 2, Mode: [2]\n",
            "\n",
            "\n"
          ]
        }
      ]
    },
    {
      "cell_type": "code",
      "source": [
        "print(\"Task 35: Pascal's triangle up to a specified number of rows using list comprehension\")\n",
        "\n",
        "rows = 5\n",
        "pascal_triangle = [[1]]  # Initialize with the first row\n",
        "\n",
        "# Use list comprehension to generate subsequent rows\n",
        "for i in range(1, rows):\n",
        "    pascal_triangle.append([1] + [pascal_triangle[i-1][j] + pascal_triangle[i-1][j+1] for j in range(len(pascal_triangle[i-1])-1)] + [1])\n",
        "\n",
        "# Print the generated Pascal's triangle\n",
        "for row in pascal_triangle:\n",
        "    print(row)\n",
        "\n",
        "print(\"\\n\")\n",
        "\n"
      ],
      "metadata": {
        "colab": {
          "base_uri": "https://localhost:8080/"
        },
        "id": "bhQbhA6e1wlf",
        "outputId": "6ddd39ce-7b3d-4218-81ce-60374b833079"
      },
      "execution_count": 38,
      "outputs": [
        {
          "output_type": "stream",
          "name": "stdout",
          "text": [
            "Task 35: Pascal's triangle up to a specified number of rows using list comprehension\n",
            "[1]\n",
            "[1, 1]\n",
            "[1, 2, 1]\n",
            "[1, 3, 3, 1]\n",
            "[1, 4, 6, 4, 1]\n",
            "\n",
            "\n"
          ]
        }
      ]
    },
    {
      "cell_type": "code",
      "source": [
        "# Task 36: Calculate the sum of the digits of a factorial of numbers from 1 to 5 using list comprehension\n",
        "print(\"Task 36: Sum of digits of factorial of numbers from 1 to 5 using list comprehension\")\n",
        "import math\n",
        "factorial_digit_sums = [sum(int(digit) for digit in str(math.factorial(i))) for i in range(1, 6)]\n",
        "print(f\"Sum of digits of factorials: {factorial_digit_sums}\")\n",
        "print(\"\\n\")\n"
      ],
      "metadata": {
        "colab": {
          "base_uri": "https://localhost:8080/"
        },
        "id": "lXocn7bV1wsJ",
        "outputId": "f250be41-615b-4298-dd4c-79d2e7798e8a"
      },
      "execution_count": 39,
      "outputs": [
        {
          "output_type": "stream",
          "name": "stdout",
          "text": [
            "Task 36: Sum of digits of factorial of numbers from 1 to 5 using list comprehension\n",
            "Sum of digits of factorials: [1, 2, 6, 6, 3]\n",
            "\n",
            "\n"
          ]
        }
      ]
    },
    {
      "cell_type": "code",
      "source": [
        "# Task 37: Find the longest word in a sentence using list comprehension\n",
        "print(\"Task 37: Longest word in a sentence using list comprehension\")\n",
        "sentence = \"The quick brown fox jumps over the lazy dog\"\n",
        "longest_word = max(sentence.split(), key=len)\n",
        "print(f\"Longest word: {longest_word}\")\n",
        "print(\"\\n\")\n"
      ],
      "metadata": {
        "colab": {
          "base_uri": "https://localhost:8080/"
        },
        "id": "EwGR7zSF1wyJ",
        "outputId": "7d0020e4-68a8-454e-e9bf-f6e1b81f2fd4"
      },
      "execution_count": 40,
      "outputs": [
        {
          "output_type": "stream",
          "name": "stdout",
          "text": [
            "Task 37: Longest word in a sentence using list comprehension\n",
            "Longest word: quick\n",
            "\n",
            "\n"
          ]
        }
      ]
    },
    {
      "cell_type": "code",
      "source": [
        "# Task 38: Filter a list of strings to include only those with more than three vowels using list comprehension\n",
        "print(\"Task 38: Filter strings with more than 3 vowels using list comprehension\")\n",
        "strings = [\"apple\", \"banana\", \"cherry\", \"kiwi\"]\n",
        "filtered_strings = [s for s in strings if sum(1 for char in s if char in \"aeiou\") > 3]\n",
        "print(f\"Strings with more than 3 vowels: {filtered_strings}\")\n",
        "print(\"\\n\")\n"
      ],
      "metadata": {
        "colab": {
          "base_uri": "https://localhost:8080/"
        },
        "id": "fOzKB_uE1w4o",
        "outputId": "ac8c6070-06e9-43ba-d435-b6b539cfae83"
      },
      "execution_count": 41,
      "outputs": [
        {
          "output_type": "stream",
          "name": "stdout",
          "text": [
            "Task 38: Filter strings with more than 3 vowels using list comprehension\n",
            "Strings with more than 3 vowels: []\n",
            "\n",
            "\n"
          ]
        }
      ]
    },
    {
      "cell_type": "code",
      "source": [
        "# Task 39: Calculate the sum of the digits of numbers from 1 to 1000 using list comprehension\n",
        "print(\"Task 39: Sum of digits of numbers from 1 to 1000 using list comprehension\")\n",
        "sum_of_digits_1_to_1000 = sum(sum(int(digit) for digit in str(i)) for i in range(1, 1001))\n",
        "print(f\"Sum of digits of numbers from 1 to 1000: {sum_of_digits_1_to_1000}\")\n",
        "print(\"\\n\")\n"
      ],
      "metadata": {
        "colab": {
          "base_uri": "https://localhost:8080/"
        },
        "id": "uziAS60A1w_8",
        "outputId": "007655b6-c865-4b2b-8852-f43c419dc978"
      },
      "execution_count": 42,
      "outputs": [
        {
          "output_type": "stream",
          "name": "stdout",
          "text": [
            "Task 39: Sum of digits of numbers from 1 to 1000 using list comprehension\n",
            "Sum of digits of numbers from 1 to 1000: 13501\n",
            "\n",
            "\n"
          ]
        }
      ]
    },
    {
      "cell_type": "code",
      "source": [
        "# Task 40: Generate a list of prime palindromic numbers using list comprehension\n",
        "print(\"Task 40: Prime palindromic numbers using list comprehension\")\n",
        "limit = 100\n",
        "prime_palindromic_numbers = [num for num in range(2, limit + 1)\n",
        " if str(num) == str(num)[::-1] and all(num % i != 0 for i in range(2, int(num**0.5) + 1))]\n",
        "print(f\"Prime palindromic numbers up to {limit}: {prime_palindromic_numbers}\")\n",
        "print(\"\\n\")\n"
      ],
      "metadata": {
        "colab": {
          "base_uri": "https://localhost:8080/"
        },
        "id": "Oz-O2Fyl2RKN",
        "outputId": "64a528b0-6feb-48b7-b202-d6172739be9b"
      },
      "execution_count": 43,
      "outputs": [
        {
          "output_type": "stream",
          "name": "stdout",
          "text": [
            "Task 40: Prime palindromic numbers using list comprehension\n",
            "Prime palindromic numbers up to 100: [2, 3, 5, 7, 11]\n",
            "\n",
            "\n"
          ]
        }
      ]
    }
  ]
}